{
  "nbformat": 4,
  "nbformat_minor": 0,
  "metadata": {
    "colab": {
      "name": "create_codalab_submission.ipynb",
      "version": "0.3.2",
      "views": {},
      "default_view": {},
      "provenance": [],
      "collapsed_sections": []
    },
    "kernelspec": {
      "name": "python3",
      "display_name": "Python 3"
    }
  },
  "cells": [
    {
      "metadata": {
        "id": "ZYKGWfIcLFEY",
        "colab_type": "text"
      },
      "cell_type": "markdown",
      "source": [
        "This Jupyter notebook works on Google Chrome. \n",
        "There were issues on Safari and Firefox.\n",
        "\n",
        "Keep the following two files ready in your local machine in the same directory:\n",
        "1. test_data.csv (the original file downloaded from Codalab)\n",
        "2. predictions.csv (the file with your predictions)"
      ]
    },
    {
      "metadata": {
        "id": "Jr8oh8LJZfCl",
        "colab_type": "text"
      },
      "cell_type": "markdown",
      "source": [
        "Some clean ups and system checks "
      ]
    },
    {
      "metadata": {
        "id": "LfQM513VOgZr",
        "colab_type": "code",
        "colab": {
          "autoexec": {
            "startup": false,
            "wait_interval": 0
          },
          "base_uri": "https://localhost:8080/",
          "height": 34
        },
        "outputId": "97202f2d-77d3-4e34-8d8a-dd6d4b411ed4",
        "executionInfo": {
          "status": "ok",
          "timestamp": 1529936177686,
          "user_tz": 240,
          "elapsed": 301,
          "user": {
            "displayName": "Hareesh Bahuleyan",
            "photoUrl": "https://lh3.googleusercontent.com/a/default-user=s128",
            "userId": "103624373643035557730"
          }
        }
      },
      "cell_type": "code",
      "source": [
        "import platform\n",
        "print(platform.python_version())"
      ],
      "execution_count": 1,
      "outputs": [
        {
          "output_type": "stream",
          "text": [
            "3.6.3\n"
          ],
          "name": "stdout"
        }
      ]
    },
    {
      "metadata": {
        "id": "9Tv3wiWsQql1",
        "colab_type": "code",
        "colab": {
          "autoexec": {
            "startup": false,
            "wait_interval": 0
          },
          "base_uri": "https://localhost:8080/",
          "height": 34
        },
        "outputId": "54ae52e9-3b92-433c-b196-c33cc35b261a",
        "executionInfo": {
          "status": "ok",
          "timestamp": 1529936180025,
          "user_tz": 240,
          "elapsed": 1353,
          "user": {
            "displayName": "Hareesh Bahuleyan",
            "photoUrl": "https://lh3.googleusercontent.com/a/default-user=s128",
            "userId": "103624373643035557730"
          }
        }
      },
      "cell_type": "code",
      "source": [
        "# Check files in current directory\n",
        "!ls"
      ],
      "execution_count": 2,
      "outputs": [
        {
          "output_type": "stream",
          "text": [
            "answer1.csv  answer.csv  predictions.csv  test_data.csv\r\n"
          ],
          "name": "stdout"
        }
      ]
    },
    {
      "metadata": {
        "id": "X8mEsFrxQ0on",
        "colab_type": "code",
        "colab": {
          "autoexec": {
            "startup": false,
            "wait_interval": 0
          },
          "base_uri": "https://localhost:8080/",
          "height": 0
        },
        "outputId": "1317ec9b-103b-4c21-bf65-b33906a96229",
        "executionInfo": {
          "status": "ok",
          "timestamp": 1529936183147,
          "user_tz": 240,
          "elapsed": 1427,
          "user": {
            "displayName": "Hareesh Bahuleyan",
            "photoUrl": "https://lh3.googleusercontent.com/a/default-user=s128",
            "userId": "103624373643035557730"
          }
        }
      },
      "cell_type": "code",
      "source": [
        "# Remove unwanted existing files\n",
        "!rm -rf *"
      ],
      "execution_count": 3,
      "outputs": []
    },
    {
      "metadata": {
        "id": "3Vi9yFViJa3-",
        "colab_type": "code",
        "colab": {
          "autoexec": {
            "startup": false,
            "wait_interval": 0
          },
          "base_uri": "https://localhost:8080/",
          "height": 103
        },
        "outputId": "75e81b85-85f0-4fae-e2d1-d3822005cd80",
        "executionInfo": {
          "status": "ok",
          "timestamp": 1529936206789,
          "user_tz": 240,
          "elapsed": 21474,
          "user": {
            "displayName": "Hareesh Bahuleyan",
            "photoUrl": "https://lh3.googleusercontent.com/a/default-user=s128",
            "userId": "103624373643035557730"
          }
        }
      },
      "cell_type": "code",
      "source": [
        "# Select Browse -> choose the above two files from your local machine \n",
        "from google.colab import files\n",
        "uploaded = files.upload()"
      ],
      "execution_count": 4,
      "outputs": [
        {
          "output_type": "display_data",
          "data": {
            "text/html": [
              "\n",
              "     <input type=\"file\" id=\"files-362d5e0e-2657-4842-8b0c-b918952513cc\" name=\"files[]\" multiple disabled />\n",
              "     <output id=\"result-362d5e0e-2657-4842-8b0c-b918952513cc\">\n",
              "      Upload widget is only available when the cell has been executed in the\n",
              "      current browser session. Please rerun this cell to enable.\n",
              "      </output>\n",
              "      <script src=\"/nbextensions/google.colab/files.js\"></script> "
            ],
            "text/plain": [
              "<IPython.core.display.HTML object>"
            ]
          },
          "metadata": {
            "tags": []
          }
        },
        {
          "output_type": "stream",
          "text": [
            "Saving predictions.csv to predictions.csv\n",
            "Saving test_data.csv to test_data.csv\n"
          ],
          "name": "stdout"
        }
      ]
    },
    {
      "metadata": {
        "id": "LSJSLLsAMXxJ",
        "colab_type": "text"
      },
      "cell_type": "markdown",
      "source": [
        "After selecting your file(s), uploaded will be a dictionary of keys (the file names) and values (the encoded file objects). To decode the files for a library such as Pandas, try"
      ]
    },
    {
      "metadata": {
        "id": "06gdqNvJK4IM",
        "colab_type": "code",
        "colab": {
          "autoexec": {
            "startup": false,
            "wait_interval": 0
          },
          "base_uri": "https://localhost:8080/",
          "height": 0
        },
        "outputId": "9f57ad30-0ee9-4009-a920-6edfe3a44426",
        "executionInfo": {
          "status": "ok",
          "timestamp": 1529936223472,
          "user_tz": 240,
          "elapsed": 216,
          "user": {
            "displayName": "Hareesh Bahuleyan",
            "photoUrl": "https://lh3.googleusercontent.com/a/default-user=s128",
            "userId": "103624373643035557730"
          }
        }
      },
      "cell_type": "code",
      "source": [
        "import pandas as pd\n",
        "import io\n",
        "df_test = pd.read_csv(io.StringIO(uploaded['test_data.csv'].decode('utf-8')))\n",
        "df_pred = pd.read_csv(io.StringIO(uploaded['predictions.csv'].decode('utf-8')))"
      ],
      "execution_count": 5,
      "outputs": []
    },
    {
      "metadata": {
        "id": "dp9xeFwSJhfE",
        "colab_type": "code",
        "colab": {
          "autoexec": {
            "startup": false,
            "wait_interval": 0
          },
          "base_uri": "https://localhost:8080/",
          "height": 204
        },
        "outputId": "893a352a-4852-47d8-efe5-56b9aaebeb82",
        "executionInfo": {
          "status": "ok",
          "timestamp": 1529936224579,
          "user_tz": 240,
          "elapsed": 234,
          "user": {
            "displayName": "Hareesh Bahuleyan",
            "photoUrl": "https://lh3.googleusercontent.com/a/default-user=s128",
            "userId": "103624373643035557730"
          }
        }
      },
      "cell_type": "code",
      "source": [
        "df_test.head()"
      ],
      "execution_count": 6,
      "outputs": [
        {
          "output_type": "execute_result",
          "data": {
            "text/html": [
              "<div>\n",
              "<style scoped>\n",
              "    .dataframe tbody tr th:only-of-type {\n",
              "        vertical-align: middle;\n",
              "    }\n",
              "\n",
              "    .dataframe tbody tr th {\n",
              "        vertical-align: top;\n",
              "    }\n",
              "\n",
              "    .dataframe thead th {\n",
              "        text-align: right;\n",
              "    }\n",
              "</style>\n",
              "<table border=\"1\" class=\"dataframe\">\n",
              "  <thead>\n",
              "    <tr style=\"text-align: right;\">\n",
              "      <th></th>\n",
              "      <th>Headline</th>\n",
              "      <th>Body ID</th>\n",
              "    </tr>\n",
              "  </thead>\n",
              "  <tbody>\n",
              "    <tr>\n",
              "      <th>0</th>\n",
              "      <td>Email to Tim Cook prompted change of Apple's '...</td>\n",
              "      <td>172</td>\n",
              "    </tr>\n",
              "    <tr>\n",
              "      <th>1</th>\n",
              "      <td>Team 5 source: Missing Afghan soldiers found a...</td>\n",
              "      <td>1626</td>\n",
              "    </tr>\n",
              "    <tr>\n",
              "      <th>2</th>\n",
              "      <td>Jasmine Tridevil Has Surgery 'To Add Third Bre...</td>\n",
              "      <td>327</td>\n",
              "    </tr>\n",
              "    <tr>\n",
              "      <th>3</th>\n",
              "      <td>IBM plans massive layoffs of up to 110,000 wor...</td>\n",
              "      <td>389</td>\n",
              "    </tr>\n",
              "    <tr>\n",
              "      <th>4</th>\n",
              "      <td>Teen wakes up during brain surgery, asks how i...</td>\n",
              "      <td>1381</td>\n",
              "    </tr>\n",
              "  </tbody>\n",
              "</table>\n",
              "</div>"
            ],
            "text/plain": [
              "                                            Headline  Body ID\n",
              "0  Email to Tim Cook prompted change of Apple's '...      172\n",
              "1  Team 5 source: Missing Afghan soldiers found a...     1626\n",
              "2  Jasmine Tridevil Has Surgery 'To Add Third Bre...      327\n",
              "3  IBM plans massive layoffs of up to 110,000 wor...      389\n",
              "4  Teen wakes up during brain surgery, asks how i...     1381"
            ]
          },
          "metadata": {
            "tags": []
          },
          "execution_count": 6
        }
      ]
    },
    {
      "metadata": {
        "id": "VmpifF3YMsqj",
        "colab_type": "code",
        "colab": {
          "autoexec": {
            "startup": false,
            "wait_interval": 0
          },
          "base_uri": "https://localhost:8080/",
          "height": 204
        },
        "outputId": "9b95d2b8-4b37-4a49-a8bb-133256718a73",
        "executionInfo": {
          "status": "ok",
          "timestamp": 1529936225231,
          "user_tz": 240,
          "elapsed": 228,
          "user": {
            "displayName": "Hareesh Bahuleyan",
            "photoUrl": "https://lh3.googleusercontent.com/a/default-user=s128",
            "userId": "103624373643035557730"
          }
        }
      },
      "cell_type": "code",
      "source": [
        "df_pred.head()"
      ],
      "execution_count": 7,
      "outputs": [
        {
          "output_type": "execute_result",
          "data": {
            "text/html": [
              "<div>\n",
              "<style scoped>\n",
              "    .dataframe tbody tr th:only-of-type {\n",
              "        vertical-align: middle;\n",
              "    }\n",
              "\n",
              "    .dataframe tbody tr th {\n",
              "        vertical-align: top;\n",
              "    }\n",
              "\n",
              "    .dataframe thead th {\n",
              "        text-align: right;\n",
              "    }\n",
              "</style>\n",
              "<table border=\"1\" class=\"dataframe\">\n",
              "  <thead>\n",
              "    <tr style=\"text-align: right;\">\n",
              "      <th></th>\n",
              "      <th>Headline</th>\n",
              "      <th>Body ID</th>\n",
              "      <th>Stance</th>\n",
              "    </tr>\n",
              "  </thead>\n",
              "  <tbody>\n",
              "    <tr>\n",
              "      <th>0</th>\n",
              "      <td>Email to Tim Cook prompted change of Apple's '...</td>\n",
              "      <td>172</td>\n",
              "      <td>unrelated</td>\n",
              "    </tr>\n",
              "    <tr>\n",
              "      <th>1</th>\n",
              "      <td>Team 5 source: Missing Afghan soldiers found a...</td>\n",
              "      <td>1626</td>\n",
              "      <td>unrelated</td>\n",
              "    </tr>\n",
              "    <tr>\n",
              "      <th>2</th>\n",
              "      <td>Jasmine Tridevil Has Surgery 'To Add Third Bre...</td>\n",
              "      <td>327</td>\n",
              "      <td>unrelated</td>\n",
              "    </tr>\n",
              "    <tr>\n",
              "      <th>3</th>\n",
              "      <td>IBM plans massive layoffs of up to 110,000 wor...</td>\n",
              "      <td>389</td>\n",
              "      <td>unrelated</td>\n",
              "    </tr>\n",
              "    <tr>\n",
              "      <th>4</th>\n",
              "      <td>Teen wakes up during brain surgery, asks how i...</td>\n",
              "      <td>1381</td>\n",
              "      <td>unrelated</td>\n",
              "    </tr>\n",
              "  </tbody>\n",
              "</table>\n",
              "</div>"
            ],
            "text/plain": [
              "                                            Headline  Body ID     Stance\n",
              "0  Email to Tim Cook prompted change of Apple's '...      172  unrelated\n",
              "1  Team 5 source: Missing Afghan soldiers found a...     1626  unrelated\n",
              "2  Jasmine Tridevil Has Surgery 'To Add Third Bre...      327  unrelated\n",
              "3  IBM plans massive layoffs of up to 110,000 wor...      389  unrelated\n",
              "4  Teen wakes up during brain surgery, asks how i...     1381  unrelated"
            ]
          },
          "metadata": {
            "tags": []
          },
          "execution_count": 7
        }
      ]
    },
    {
      "metadata": {
        "id": "BmvtRvmZM0S7",
        "colab_type": "text"
      },
      "cell_type": "markdown",
      "source": [
        "Now, extract the 'Stance' column from df_answer and attach it to df_test"
      ]
    },
    {
      "metadata": {
        "id": "0SDFUODZM8B7",
        "colab_type": "code",
        "colab": {
          "autoexec": {
            "startup": false,
            "wait_interval": 0
          },
          "base_uri": "https://localhost:8080/",
          "height": 0
        },
        "outputId": "55dd9d26-6c16-4450-e7e2-7e037aa48467",
        "executionInfo": {
          "status": "ok",
          "timestamp": 1529936228989,
          "user_tz": 240,
          "elapsed": 466,
          "user": {
            "displayName": "Hareesh Bahuleyan",
            "photoUrl": "https://lh3.googleusercontent.com/a/default-user=s128",
            "userId": "103624373643035557730"
          }
        }
      },
      "cell_type": "code",
      "source": [
        "df_test['Stance'] = df_pred['Stance']"
      ],
      "execution_count": 8,
      "outputs": []
    },
    {
      "metadata": {
        "id": "rmDR_c9qNLBN",
        "colab_type": "code",
        "colab": {
          "autoexec": {
            "startup": false,
            "wait_interval": 0
          },
          "base_uri": "https://localhost:8080/",
          "height": 0
        },
        "outputId": "aeefef40-48fc-49f7-fbe5-c34de16ce1a0",
        "executionInfo": {
          "status": "ok",
          "timestamp": 1529936230030,
          "user_tz": 240,
          "elapsed": 202,
          "user": {
            "displayName": "Hareesh Bahuleyan",
            "photoUrl": "https://lh3.googleusercontent.com/a/default-user=s128",
            "userId": "103624373643035557730"
          }
        }
      },
      "cell_type": "code",
      "source": [
        "# Save the file to the colab server\n",
        "df_test.to_csv('answer.csv', index=False, encoding='utf-8')"
      ],
      "execution_count": 9,
      "outputs": []
    },
    {
      "metadata": {
        "id": "ewZCJYrBNU-t",
        "colab_type": "code",
        "colab": {
          "autoexec": {
            "startup": false,
            "wait_interval": 0
          },
          "base_uri": "https://localhost:8080/",
          "height": 0
        },
        "outputId": "86614fa3-ba10-4049-b232-7a97147e0553",
        "executionInfo": {
          "status": "ok",
          "timestamp": 1529936231785,
          "user_tz": 240,
          "elapsed": 1289,
          "user": {
            "displayName": "Hareesh Bahuleyan",
            "photoUrl": "https://lh3.googleusercontent.com/a/default-user=s128",
            "userId": "103624373643035557730"
          }
        }
      },
      "cell_type": "code",
      "source": [
        "# Save the file to your local system\n",
        "from google.colab import files\n",
        "files.download('answer.csv')"
      ],
      "execution_count": 10,
      "outputs": []
    },
    {
      "metadata": {
        "id": "WxcXCwlHRJ8J",
        "colab_type": "code",
        "colab": {
          "autoexec": {
            "startup": false,
            "wait_interval": 0
          }
        }
      },
      "cell_type": "code",
      "source": [
        ""
      ],
      "execution_count": 0,
      "outputs": []
    }
  ]
}