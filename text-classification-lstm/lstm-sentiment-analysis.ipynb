{
 "cells": [
  {
   "cell_type": "code",
   "execution_count": 1,
   "metadata": {},
   "outputs": [
    {
     "name": "stderr",
     "output_type": "stream",
     "text": [
      "Using TensorFlow backend.\n"
     ]
    }
   ],
   "source": [
    "import gensim\n",
    "import numpy as np\n",
    "import pandas as pd\n",
    "\n",
    "from sklearn.model_selection import train_test_split\n",
    "\n",
    "from keras.models import Sequential\n",
    "from keras.layers import Input, Dense, LSTM, Embedding, Dropout, BatchNormalization, Activation, Bidirectional\n",
    "from keras.preprocessing.text import text_to_word_sequence, Tokenizer\n",
    "from keras.preprocessing.sequence import pad_sequences\n",
    "\n",
    "import matplotlib as mpl\n",
    "%matplotlib inline\n",
    "from matplotlib import pyplot as plt\n",
    "from keras.utils import plot_model \n",
    "from IPython.display import Image"
   ]
  },
  {
   "cell_type": "code",
   "execution_count": 2,
   "metadata": {
    "collapsed": true
   },
   "outputs": [],
   "source": [
    "# Specify the folder locations\n",
    "W2V_DIR = '/Users/hareeshbahuleyan/Downloads/GoogleNews-vectors-negative300.bin'\n",
    "DATA_DIR = '/Users/hareeshbahuleyan/Github/deeplearning-tutorials/text-classification-lstm/data/'\n",
    "\n",
    "# These are some hyperparameters that can be tuned\n",
    "MAX_SENT_LEN = 30\n",
    "MAX_VOCAB_SIZE = 20000\n",
    "LSTM_DIM = 128\n",
    "EMBEDDING_DIM = 300\n",
    "BATCH_SIZE = 32\n",
    "N_EPOCHS = 10"
   ]
  },
  {
   "cell_type": "code",
   "execution_count": 3,
   "metadata": {},
   "outputs": [
    {
     "name": "stdout",
     "output_type": "stream",
     "text": [
      "Number of negative sentences: 5331\n",
      "Number of positive sentences: 5331\n"
     ]
    }
   ],
   "source": [
    "# Read the text files of positive and negative sentences\n",
    "with open(DATA_DIR+'rt-polarity.neg', 'r', errors='ignore') as f:\n",
    "    neg = f.readlines()\n",
    "    \n",
    "with open(DATA_DIR+'rt-polarity.pos', 'r', errors='ignore') as f:\n",
    "    pos = f.readlines()\n",
    "\n",
    "print('Number of negative sentences:', len(neg))\n",
    "print('Number of positive sentences:', len(pos))\n",
    "\n",
    "# Create a dataframe to store the sentence and polarity as 2 columns\n",
    "df = pd.DataFrame(columns=['sentence', 'polarity'])\n",
    "df['sentence'] = neg + pos\n",
    "df['polarity'] = [0]*len(neg) + [1]*len(pos)\n",
    "df = df.sample(frac=1, random_state=10) # Shuffle the rows\n",
    "df.reset_index(inplace=True, drop=True)"
   ]
  },
  {
   "cell_type": "code",
   "execution_count": 4,
   "metadata": {},
   "outputs": [
    {
     "name": "stdout",
     "output_type": "stream",
     "text": [
      "90th Percentile Sentence Length: 31.0\n"
     ]
    }
   ],
   "source": [
    "# Pre-processing involves removal of puctuations and converting text to lower case\n",
    "word_seq = [text_to_word_sequence(sent) for sent in df['sentence']]\n",
    "print('90th Percentile Sentence Length:', np.percentile([len(seq) for seq in word_seq], 90))"
   ]
  },
  {
   "cell_type": "markdown",
   "metadata": {},
   "source": [
    "<code>Since only 10 percent of the sentences have more than 31 words, we should be safe using MAX_SENT_LEN as 30"
   ]
  },
  {
   "cell_type": "code",
   "execution_count": 5,
   "metadata": {},
   "outputs": [
    {
     "name": "stdout",
     "output_type": "stream",
     "text": [
      "Number of words in vocabulary: 19180\n"
     ]
    }
   ],
   "source": [
    "tokenizer = Tokenizer(num_words=MAX_VOCAB_SIZE)\n",
    "tokenizer.fit_on_texts([' '.join(seq[:MAX_SENT_LEN]) for seq in word_seq])\n",
    "\n",
    "print(\"Number of words in vocabulary:\", len(tokenizer.word_index))"
   ]
  },
  {
   "cell_type": "markdown",
   "metadata": {},
   "source": [
    "<code>The number of unique words are less than our MAX_VOCAB_SIZE limit"
   ]
  },
  {
   "cell_type": "code",
   "execution_count": 6,
   "metadata": {
    "collapsed": true
   },
   "outputs": [],
   "source": [
    "# Convert the sequence of words to sequnce of indices\n",
    "X = tokenizer.texts_to_sequences([' '.join(seq[:MAX_SENT_LEN]) for seq in word_seq])\n",
    "X = pad_sequences(X, maxlen=MAX_SENT_LEN, padding='post', truncating='post')\n",
    "\n",
    "y = df['polarity']"
   ]
  },
  {
   "cell_type": "code",
   "execution_count": 7,
   "metadata": {
    "collapsed": true
   },
   "outputs": [],
   "source": [
    "X_train, X_test, y_train, y_test = train_test_split(X, y, random_state=10, test_size=0.1)"
   ]
  },
  {
   "cell_type": "code",
   "execution_count": 8,
   "metadata": {
    "collapsed": true
   },
   "outputs": [],
   "source": [
    "# Load the word2vec embeddings \n",
    "embeddings = gensim.models.KeyedVectors.load_word2vec_format(W2V_DIR, binary=True)\n",
    "\n",
    "# Create an embedding matrix containing only the word's in our vocabulary\n",
    "# If the word does not have a pre-trained embedding, then randomly initialize the embedding\n",
    "embeddings_matrix = np.random.uniform(-0.05, 0.05, size=(len(tokenizer.word_index)+1, EMBEDDING_DIM)) # +1 is because the matrix indices start with 0\n",
    "for word, i in tokenizer.word_index.items(): # i=0 is the embedding for the zero padding\n",
    "    try:\n",
    "        embeddings_vector = embeddings[word]\n",
    "    except KeyError:\n",
    "        embeddings_vector = None\n",
    "    if embeddings_vector is not None:\n",
    "        embeddings_matrix[i] = embeddings_vector\n",
    "        \n",
    "del embeddings"
   ]
  },
  {
   "cell_type": "code",
   "execution_count": 9,
   "metadata": {
    "collapsed": true
   },
   "outputs": [],
   "source": [
    "# Build a sequential model by stacking neural net units \n",
    "model = Sequential()\n",
    "model.add(Embedding(input_dim=len(tokenizer.word_index)+1,\n",
    "                          output_dim=EMBEDDING_DIM,\n",
    "                          weights = [embeddings_matrix], trainable=False, name='word_embedding_layer', \n",
    "                          mask_zero=True))\n",
    "\n",
    "model.add(LSTM(LSTM_DIM, return_sequences=False, name='lstm_layer'))\n",
    "\n",
    "model.add(Dense(1, activation='sigmoid', name='output_layer'))"
   ]
  },
  {
   "cell_type": "code",
   "execution_count": 10,
   "metadata": {},
   "outputs": [
    {
     "name": "stdout",
     "output_type": "stream",
     "text": [
      "_________________________________________________________________\n",
      "Layer (type)                 Output Shape              Param #   \n",
      "=================================================================\n",
      "word_embedding_layer (Embedd (None, None, 300)         5754300   \n",
      "_________________________________________________________________\n",
      "lstm_layer (LSTM)            (None, 128)               219648    \n",
      "_________________________________________________________________\n",
      "output_layer (Dense)         (None, 1)                 129       \n",
      "=================================================================\n",
      "Total params: 5,974,077\n",
      "Trainable params: 219,777\n",
      "Non-trainable params: 5,754,300\n",
      "_________________________________________________________________\n"
     ]
    }
   ],
   "source": [
    "model.summary()"
   ]
  },
  {
   "cell_type": "code",
   "execution_count": 12,
   "metadata": {
    "collapsed": true
   },
   "outputs": [],
   "source": [
    "model.compile(loss='binary_crossentropy',\n",
    "              optimizer='adam',\n",
    "              metrics=['accuracy'])"
   ]
  },
  {
   "cell_type": "code",
   "execution_count": 13,
   "metadata": {},
   "outputs": [
    {
     "name": "stdout",
     "output_type": "stream",
     "text": [
      "Train on 9595 samples, validate on 1067 samples\n",
      "Epoch 1/10\n",
      "9595/9595 [==============================] - 27s - loss: 0.5470 - acc: 0.7269 - val_loss: 0.4838 - val_acc: 0.7629\n",
      "Epoch 2/10\n",
      "9595/9595 [==============================] - 26s - loss: 0.4678 - acc: 0.7831 - val_loss: 0.4597 - val_acc: 0.7723\n",
      "Epoch 3/10\n",
      "9595/9595 [==============================] - 27s - loss: 0.4400 - acc: 0.7943 - val_loss: 0.4683 - val_acc: 0.7704\n",
      "Epoch 4/10\n",
      "9595/9595 [==============================] - 26s - loss: 0.4169 - acc: 0.8061 - val_loss: 0.4505 - val_acc: 0.7985\n",
      "Epoch 5/10\n",
      "9595/9595 [==============================] - 27s - loss: 0.3948 - acc: 0.8199 - val_loss: 0.4366 - val_acc: 0.7844\n",
      "Epoch 6/10\n",
      "9595/9595 [==============================] - 27s - loss: 0.3728 - acc: 0.8330 - val_loss: 0.4184 - val_acc: 0.8032\n",
      "Epoch 7/10\n",
      "9595/9595 [==============================] - 27s - loss: 0.3535 - acc: 0.8413 - val_loss: 0.4367 - val_acc: 0.7910\n",
      "Epoch 8/10\n",
      "9595/9595 [==============================] - 26s - loss: 0.3263 - acc: 0.8558 - val_loss: 0.4316 - val_acc: 0.7957\n",
      "Epoch 9/10\n",
      "9595/9595 [==============================] - 27s - loss: 0.2916 - acc: 0.8690 - val_loss: 0.4738 - val_acc: 0.8041\n",
      "Epoch 10/10\n",
      "9595/9595 [==============================] - 27s - loss: 0.2628 - acc: 0.8866 - val_loss: 0.4869 - val_acc: 0.8022\n"
     ]
    },
    {
     "data": {
      "text/plain": [
       "<keras.callbacks.History at 0x2378aaa58>"
      ]
     },
     "execution_count": 13,
     "metadata": {},
     "output_type": "execute_result"
    }
   ],
   "source": [
    "model.fit(X_train, y_train,\n",
    "          batch_size=BATCH_SIZE,\n",
    "          epochs=N_EPOCHS,\n",
    "          validation_data=(X_test, y_test))"
   ]
  },
  {
   "cell_type": "code",
   "execution_count": 14,
   "metadata": {},
   "outputs": [
    {
     "name": "stdout",
     "output_type": "stream",
     "text": [
      "1056/1067 [============================>.] - ETA: 0s"
     ]
    }
   ],
   "source": [
    "score, acc = model.evaluate(X_test, y_test,\n",
    "                            batch_size=BATCH_SIZE)"
   ]
  },
  {
   "cell_type": "code",
   "execution_count": 15,
   "metadata": {},
   "outputs": [
    {
     "name": "stdout",
     "output_type": "stream",
     "text": [
      "Accuracy on Test Set = 0.802\n"
     ]
    }
   ],
   "source": [
    "print(\"Accuracy on Test Set = {0:4.3f}\".format(acc))"
   ]
  },
  {
   "cell_type": "code",
   "execution_count": 16,
   "metadata": {},
   "outputs": [
    {
     "data": {
      "image/png": "[encoded data removed]",
      "text/plain": [
       "<IPython.core.display.Image object>"
      ]
     },
     "execution_count": 16,
     "metadata": {},
     "output_type": "execute_result"
    }
   ],
   "source": [
    "plot_model(model, to_file='basic_lstm_classifier.png', show_layer_names=True)\n",
    "Image('basic_lstm_classifier.png')"
   ]
  },
  {
   "cell_type": "code",
   "execution_count": null,
   "metadata": {
    "collapsed": true
   },
   "outputs": [],
   "source": []
  },
  {
   "cell_type": "markdown",
   "metadata": {
    "collapsed": true
   },
   "source": [
    "<code>Modify the network by adding two more Dense layers with Batch-Normalization and Dropouts:"
   ]
  },
  {
   "cell_type": "code",
   "execution_count": 11,
   "metadata": {},
   "outputs": [
    {
     "name": "stdout",
     "output_type": "stream",
     "text": [
      "_________________________________________________________________\n",
      "Layer (type)                 Output Shape              Param #   \n",
      "=================================================================\n",
      "word_embedding_layer (Embedd (None, None, 300)         5754300   \n",
      "_________________________________________________________________\n",
      "lstm_layer (LSTM)            (None, 128)               219648    \n",
      "_________________________________________________________________\n",
      "dense_1 (Dense)              (None, 32)                4128      \n",
      "_________________________________________________________________\n",
      "dropout_1 (Dropout)          (None, 32)                0         \n",
      "_________________________________________________________________\n",
      "activation_1 (Activation)    (None, 32)                0         \n",
      "_________________________________________________________________\n",
      "dense_2 (Dense)              (None, 8)                 264       \n",
      "_________________________________________________________________\n",
      "dropout_2 (Dropout)          (None, 8)                 0         \n",
      "_________________________________________________________________\n",
      "activation_2 (Activation)    (None, 8)                 0         \n",
      "_________________________________________________________________\n",
      "output_layer (Dense)         (None, 1)                 9         \n",
      "=================================================================\n",
      "Total params: 5,978,349\n",
      "Trainable params: 224,049\n",
      "Non-trainable params: 5,754,300\n",
      "_________________________________________________________________\n"
     ]
    }
   ],
   "source": [
    "# Build a sequential model by stacking neural net units \n",
    "model = Sequential()\n",
    "model.add(Embedding(input_dim=len(tokenizer.word_index)+1,\n",
    "                          output_dim=EMBEDDING_DIM,\n",
    "                          weights = [embeddings_matrix], trainable=False, name='word_embedding_layer', \n",
    "                          mask_zero=True)) # trainable=True results in overfitting\n",
    "\n",
    "model.add(LSTM(LSTM_DIM, return_sequences=False, name='lstm_layer')) # Can try Bidirectional-LSTM\n",
    "\n",
    "model.add(Dense(32, name='dense_1'))\n",
    "# model.add(BatchNormalization(name='bn_1')) # BN did not really help with performance \n",
    "model.add(Dropout(rate=0.3, name='dropout_1')) # Can try varying dropout rates\n",
    "model.add(Activation(activation='relu', name='activation_1'))\n",
    "\n",
    "model.add(Dense(8, name='dense_2'))\n",
    "# model.add(BatchNormalization(name='bn_2'))\n",
    "model.add(Dropout(rate=0.3, name='dropout_2'))\n",
    "model.add(Activation(activation='relu', name='activation_2'))\n",
    "\n",
    "model.add(Dense(1, activation='sigmoid', name='output_layer'))\n",
    "model.summary()"
   ]
  },
  {
   "cell_type": "code",
   "execution_count": 12,
   "metadata": {
    "collapsed": true
   },
   "outputs": [],
   "source": [
    "model.compile(loss='binary_crossentropy',\n",
    "              optimizer='adam',\n",
    "              metrics=['accuracy'])"
   ]
  },
  {
   "cell_type": "code",
   "execution_count": 33,
   "metadata": {},
   "outputs": [
    {
     "name": "stdout",
     "output_type": "stream",
     "text": [
      "Train on 9595 samples, validate on 1067 samples\n",
      "Epoch 1/10\n",
      "9595/9595 [==============================] - 41s - loss: 0.5703 - acc: 0.7141 - val_loss: 0.4678 - val_acc: 0.7694\n",
      "Epoch 2/10\n",
      "9595/9595 [==============================] - 40s - loss: 0.4994 - acc: 0.7718 - val_loss: 0.4759 - val_acc: 0.7629\n",
      "Epoch 3/10\n",
      "9595/9595 [==============================] - 40s - loss: 0.4610 - acc: 0.7925 - val_loss: 0.4483 - val_acc: 0.7798\n",
      "Epoch 4/10\n",
      "9595/9595 [==============================] - 41s - loss: 0.4404 - acc: 0.8021 - val_loss: 0.4306 - val_acc: 0.8022\n",
      "Epoch 5/10\n",
      "9595/9595 [==============================] - 41s - loss: 0.4080 - acc: 0.8201 - val_loss: 0.4402 - val_acc: 0.7919\n",
      "Epoch 6/10\n",
      "9595/9595 [==============================] - 40s - loss: 0.3818 - acc: 0.8323 - val_loss: 0.4372 - val_acc: 0.8154\n",
      "Epoch 7/10\n",
      "9595/9595 [==============================] - 40s - loss: 0.3525 - acc: 0.8459 - val_loss: 0.4291 - val_acc: 0.8088\n",
      "Epoch 8/10\n",
      "9595/9595 [==============================] - 40s - loss: 0.3204 - acc: 0.8635 - val_loss: 0.4636 - val_acc: 0.7985\n",
      "Epoch 9/10\n",
      "9595/9595 [==============================] - 40s - loss: 0.2837 - acc: 0.8823 - val_loss: 0.5217 - val_acc: 0.7976\n",
      "Epoch 10/10\n",
      "9595/9595 [==============================] - 40s - loss: 0.2622 - acc: 0.8928 - val_loss: 0.5529 - val_acc: 0.7910\n"
     ]
    },
    {
     "data": {
      "text/plain": [
       "<keras.callbacks.History at 0x209015f28>"
      ]
     },
     "execution_count": 33,
     "metadata": {},
     "output_type": "execute_result"
    }
   ],
   "source": [
    "model.fit(X_train, y_train,\n",
    "          batch_size=BATCH_SIZE,\n",
    "          epochs=N_EPOCHS,\n",
    "          validation_data=(X_test, y_test))"
   ]
  },
  {
   "cell_type": "code",
   "execution_count": 13,
   "metadata": {},
   "outputs": [
    {
     "data": {
      "image/png": "[encoded data removed]",
      "text/plain": [
       "<IPython.core.display.Image object>"
      ]
     },
     "execution_count": 13,
     "metadata": {},
     "output_type": "execute_result"
    }
   ],
   "source": [
    "plot_model(model, to_file='modified_lstm_classifier.png', show_layer_names=True)\n",
    "Image('modified_lstm_classifier.png')"
   ]
  },
  {
   "cell_type": "code",
   "execution_count": null,
   "metadata": {
    "collapsed": true
   },
   "outputs": [],
   "source": []
  },
  {
   "cell_type": "code",
   "execution_count": null,
   "metadata": {
    "collapsed": true
   },
   "outputs": [],
   "source": []
  },
  {
   "cell_type": "code",
   "execution_count": null,
   "metadata": {
    "collapsed": true
   },
   "outputs": [],
   "source": []
  }
 ],
 "metadata": {
  "kernelspec": {
   "display_name": "Python 3",
   "language": "python",
   "name": "python3"
  },
  "language_info": {
   "codemirror_mode": {
    "name": "ipython",
    "version": 3
   },
   "file_extension": ".py",
   "mimetype": "text/x-python",
   "name": "python",
   "nbconvert_exporter": "python",
   "pygments_lexer": "ipython3",
   "version": "3.6.2"
  }
 },
 "nbformat": 4,
 "nbformat_minor": 2
}
