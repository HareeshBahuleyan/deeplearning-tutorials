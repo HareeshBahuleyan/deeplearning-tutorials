{
 "cells": [
  {
   "cell_type": "code",
   "execution_count": 1,
   "metadata": {
    "collapsed": true
   },
   "outputs": [],
   "source": [
    "import os\n",
    "\n",
    "os.environ[\"CUDA_DEVICE_ORDER\"] = \"PCI_BUS_ID\"\n",
    "os.environ[\"CUDA_VISIBLE_DEVICES\"] = \"0\"\n",
    "\n",
    "import tensorflow as tf\n",
    "\n",
    "tf_config = tf.ConfigProto()\n",
    "tf_config.gpu_options.allow_growth = True\n",
    "sess = tf.Session(config=tf_config)"
   ]
  },
  {
   "cell_type": "code",
   "execution_count": 2,
   "metadata": {},
   "outputs": [
    {
     "name": "stderr",
     "output_type": "stream",
     "text": [
      "Using TensorFlow backend.\n"
     ]
    }
   ],
   "source": [
    "import keras\n",
    "import pandas as pd\n",
    "import numpy as np\n",
    "\n",
    "from sklearn.model_selection import train_test_split\n",
    "from nltk.tokenize import word_tokenize\n",
    "from keras.preprocessing.text import text_to_word_sequence, Tokenizer\n",
    "from keras.preprocessing.sequence import pad_sequences\n",
    "from keras.utils import to_categorical\n",
    "from keras.optimizers import Optimizer\n",
    "from keras import callbacks\n",
    "\n",
    "import matplotlib as mpl\n",
    "%matplotlib inline\n",
    "from matplotlib import pyplot as plt\n",
    "from keras.utils import plot_model \n",
    "from IPython.display import Image\n",
    "\n",
    "np.random.seed(17)"
   ]
  },
  {
   "cell_type": "code",
   "execution_count": 3,
   "metadata": {},
   "outputs": [
    {
     "data": {
      "text/plain": [
       "'2.0.8'"
      ]
     },
     "execution_count": 3,
     "metadata": {},
     "output_type": "execute_result"
    }
   ],
   "source": [
    "keras.__version__"
   ]
  },
  {
   "cell_type": "code",
   "execution_count": 4,
   "metadata": {},
   "outputs": [
    {
     "data": {
      "text/plain": [
       "'1.3.0'"
      ]
     },
     "execution_count": 4,
     "metadata": {},
     "output_type": "execute_result"
    }
   ],
   "source": [
    "tf.__version__"
   ]
  },
  {
   "cell_type": "markdown",
   "metadata": {},
   "source": [
    "### Task Description\n",
    "- Sequence-to-sequence encoder-decoder model in Keras\n",
    "- Task of text summarization\n",
    "- Dataset: Amazon reviews and summaries from Kaggle https://www.kaggle.com/snap/amazon-fine-food-reviews\n",
    "- only a 100k subset of this dataset is used"
   ]
  },
  {
   "cell_type": "code",
   "execution_count": 5,
   "metadata": {
    "collapsed": true
   },
   "outputs": [],
   "source": [
    "DATA_FILE_PATH = 'data/amazon_reviews.csv' \n",
    "EMB_DIR = '/collection/hpallika/deeplearning/research_work/word_embeddings/glove.6B.300d.txt'\n",
    "\n",
    "MAX_TEXT_VOCAB_SIZE = 30000\n",
    "MAX_SUMMARY_VOCAB_SIZE = 10000\n",
    "MAX_TEXT_LEN = 100\n",
    "MAX_SUMMARY_LEN = 5\n",
    "\n",
    "LSTM_DIM = 300\n",
    "EMBEDDING_DIM = 300\n",
    "\n",
    "BATCH_SIZE = 128\n",
    "N_EPOCHS = 1"
   ]
  },
  {
   "cell_type": "code",
   "execution_count": 6,
   "metadata": {},
   "outputs": [
    {
     "name": "stdout",
     "output_type": "stream",
     "text": [
      "Number of rows =  100000\n"
     ]
    },
    {
     "data": {
      "text/html": [
       "<div>\n",
       "<style scoped>\n",
       "    .dataframe tbody tr th:only-of-type {\n",
       "        vertical-align: middle;\n",
       "    }\n",
       "\n",
       "    .dataframe tbody tr th {\n",
       "        vertical-align: top;\n",
       "    }\n",
       "\n",
       "    .dataframe thead th {\n",
       "        text-align: right;\n",
       "    }\n",
       "</style>\n",
       "<table border=\"1\" class=\"dataframe\">\n",
       "  <thead>\n",
       "    <tr style=\"text-align: right;\">\n",
       "      <th></th>\n",
       "      <th>Summary</th>\n",
       "      <th>Text</th>\n",
       "    </tr>\n",
       "  </thead>\n",
       "  <tbody>\n",
       "    <tr>\n",
       "      <th>0</th>\n",
       "      <td>Good Quality Dog Food</td>\n",
       "      <td>I have bought several of the Vitality canned d...</td>\n",
       "    </tr>\n",
       "    <tr>\n",
       "      <th>1</th>\n",
       "      <td>Not as Advertised</td>\n",
       "      <td>Product arrived labeled as Jumbo Salted Peanut...</td>\n",
       "    </tr>\n",
       "    <tr>\n",
       "      <th>2</th>\n",
       "      <td>\"Delight\" says it all</td>\n",
       "      <td>This is a confection that has been around a fe...</td>\n",
       "    </tr>\n",
       "    <tr>\n",
       "      <th>3</th>\n",
       "      <td>Cough Medicine</td>\n",
       "      <td>If you are looking for the secret ingredient i...</td>\n",
       "    </tr>\n",
       "    <tr>\n",
       "      <th>4</th>\n",
       "      <td>Great taffy</td>\n",
       "      <td>Great taffy at a great price.  There was a wid...</td>\n",
       "    </tr>\n",
       "    <tr>\n",
       "      <th>5</th>\n",
       "      <td>Nice Taffy</td>\n",
       "      <td>I got a wild hair for taffy and ordered this f...</td>\n",
       "    </tr>\n",
       "    <tr>\n",
       "      <th>6</th>\n",
       "      <td>Great!  Just as good as the expensive brands!</td>\n",
       "      <td>This saltwater taffy had great flavors and was...</td>\n",
       "    </tr>\n",
       "    <tr>\n",
       "      <th>7</th>\n",
       "      <td>Wonderful, tasty taffy</td>\n",
       "      <td>This taffy is so good.  It is very soft and ch...</td>\n",
       "    </tr>\n",
       "    <tr>\n",
       "      <th>8</th>\n",
       "      <td>Yay Barley</td>\n",
       "      <td>Right now I'm mostly just sprouting this so my...</td>\n",
       "    </tr>\n",
       "    <tr>\n",
       "      <th>9</th>\n",
       "      <td>Healthy Dog Food</td>\n",
       "      <td>This is a very healthy dog food. Good for thei...</td>\n",
       "    </tr>\n",
       "  </tbody>\n",
       "</table>\n",
       "</div>"
      ],
      "text/plain": [
       "                                         Summary  \\\n",
       "0                          Good Quality Dog Food   \n",
       "1                              Not as Advertised   \n",
       "2                          \"Delight\" says it all   \n",
       "3                                 Cough Medicine   \n",
       "4                                    Great taffy   \n",
       "5                                     Nice Taffy   \n",
       "6  Great!  Just as good as the expensive brands!   \n",
       "7                         Wonderful, tasty taffy   \n",
       "8                                     Yay Barley   \n",
       "9                               Healthy Dog Food   \n",
       "\n",
       "                                                Text  \n",
       "0  I have bought several of the Vitality canned d...  \n",
       "1  Product arrived labeled as Jumbo Salted Peanut...  \n",
       "2  This is a confection that has been around a fe...  \n",
       "3  If you are looking for the secret ingredient i...  \n",
       "4  Great taffy at a great price.  There was a wid...  \n",
       "5  I got a wild hair for taffy and ordered this f...  \n",
       "6  This saltwater taffy had great flavors and was...  \n",
       "7  This taffy is so good.  It is very soft and ch...  \n",
       "8  Right now I'm mostly just sprouting this so my...  \n",
       "9  This is a very healthy dog food. Good for thei...  "
      ]
     },
     "execution_count": 6,
     "metadata": {},
     "output_type": "execute_result"
    }
   ],
   "source": [
    "df = pd.read_csv(DATA_FILE_PATH)\n",
    "print('Number of rows = ', df.shape[0])\n",
    "df.head(10)"
   ]
  },
  {
   "cell_type": "code",
   "execution_count": 7,
   "metadata": {
    "collapsed": true
   },
   "outputs": [],
   "source": [
    "# Converting all columns to string\n",
    "df['Summary'] = df['Summary'].apply(lambda x: str(x))\n",
    "df['Text'] = df['Text'].apply(lambda x: str(x))"
   ]
  },
  {
   "cell_type": "code",
   "execution_count": 8,
   "metadata": {},
   "outputs": [
    {
     "data": {
      "text/plain": [
       "99697    WOW!\n",
       "99750    Whoa\n",
       "99797     yuk\n",
       "99880    Yum!\n",
       "99929     WOW\n",
       "Name: Summary, dtype: object"
      ]
     },
     "execution_count": 8,
     "metadata": {},
     "output_type": "execute_result"
    }
   ],
   "source": [
    "sent_len = lambda x:len(x)\n",
    "df['Summary_length'] = df.Summary.apply(sent_len)\n",
    "df[df['Summary_length']<5]['Summary'].tail()"
   ]
  },
  {
   "cell_type": "markdown",
   "metadata": {},
   "source": [
    "Summaries having lesser than 5 characters can be discarded - noisy data, which is about 1500 rows of the data"
   ]
  },
  {
   "cell_type": "code",
   "execution_count": 9,
   "metadata": {},
   "outputs": [
    {
     "data": {
      "text/plain": [
       "(98491, 2)"
      ]
     },
     "execution_count": 9,
     "metadata": {},
     "output_type": "execute_result"
    }
   ],
   "source": [
    "# Summaries having lesser than 5 characters can be discarded - noisy data\n",
    "indices = df[df['Summary_length']<5].index\n",
    "df.drop(indices, inplace=True)\n",
    "\n",
    "# Can drop the Summary_length columns - to save memory\n",
    "df.drop('Summary_length', inplace=True, axis=1)\n",
    "\n",
    "df.reset_index(inplace=True, drop=True)\n",
    "df.shape"
   ]
  },
  {
   "cell_type": "code",
   "execution_count": 10,
   "metadata": {},
   "outputs": [
    {
     "name": "stdout",
     "output_type": "stream",
     "text": [
      " Summary :75.0 % of the summaries have a length less than or equal to 5.0\n",
      " Text :75.0 % of the texts have a length less than or equal to 100.0\n"
     ]
    }
   ],
   "source": [
    "word_count = lambda x:len(x.split()) # Word count for each question\n",
    "df['s_wc'] = df.Summary.apply(word_count)\n",
    "df['t_wc'] = df.Text.apply(word_count)\n",
    "\n",
    "p = 75.0\n",
    "\n",
    "print(' Summary :{} % of the summaries have a length less than or equal to {}'.format(p, np.percentile(df['s_wc'], p)))\n",
    "print(' Text :{} % of the texts have a length less than or equal to {}'.format(p, np.percentile(df['t_wc'], p)))"
   ]
  },
  {
   "cell_type": "markdown",
   "metadata": {},
   "source": [
    "Use the above stats to decide on the MAX number of tokens of the encoder and decoder sides"
   ]
  },
  {
   "cell_type": "code",
   "execution_count": 11,
   "metadata": {},
   "outputs": [
    {
     "data": {
      "text/plain": [
       "['I have bought several of the Vitality canned dog food products and have found them all to be of good quality . The product looks more like a stew than a processed meat and it smells better . My Labrador is finicky and she appreciates this product better than most .',\n",
       " \"Product arrived labeled as Jumbo Salted Peanuts ... the peanuts were actually small sized unsalted . Not sure if this was an error or if the vendor intended to represent the product as `` Jumbo '' .\"]"
      ]
     },
     "execution_count": 11,
     "metadata": {},
     "output_type": "execute_result"
    }
   ],
   "source": [
    "text_list = [' '.join(word_tokenize(x)[:MAX_TEXT_LEN]) for x in df['Text']]\n",
    "text_list[:2]"
   ]
  },
  {
   "cell_type": "code",
   "execution_count": 12,
   "metadata": {},
   "outputs": [
    {
     "data": {
      "text/plain": [
       "['Good Quality Dog Food', 'Not as Advertised']"
      ]
     },
     "execution_count": 12,
     "metadata": {},
     "output_type": "execute_result"
    }
   ],
   "source": [
    "summary_list = [' '.join(word_tokenize(x)[:MAX_SUMMARY_LEN]) for x in df['Summary']]\n",
    "summary_list[:2]"
   ]
  },
  {
   "cell_type": "markdown",
   "metadata": {},
   "source": [
    "### Separate embedding matrices - one for encoder side (Texts), one for decoder side (Summary)\n",
    "\n",
    "- We could use a shared embedding matrix if the source and target have similar vocabularies (same size and same domain). Eg. for dialogue generation\n",
    "\n",
    "\n",
    "- If the vocabularies are different, e.g., machine translation, we definitely need to use different embedding matrices\n",
    "\n",
    "\n",
    "- In this case, the summaries (decoder side) will have a smaller vocabulary than the texts (source side). It is not efficient to use a shared vocabulary/shared embedding matrix. For example, on the decoder side if we have 30,000 words vs. 5,000 words -> it is more difficult for the decoder (the softmax) to select 1 word from 30,000 choices vs. 1 from 5,000.\n"
   ]
  },
  {
   "cell_type": "markdown",
   "metadata": {},
   "source": [
    "### Preparing the word-to-index mapping\n",
    "Special tokens\n",
    "- PAD \n",
    "- SOS (only required for the decoder input, for the 1st timestep to inform the decoder that it can now start decoding)\n",
    "- EOS\n",
    "- UNK"
   ]
  },
  {
   "cell_type": "code",
   "execution_count": 13,
   "metadata": {},
   "outputs": [
    {
     "name": "stdout",
     "output_type": "stream",
     "text": [
      "Number of words in TEXT vocabulary: 45418\n",
      "Number of words in SUMMARY vocabulary: 13409\n"
     ]
    }
   ],
   "source": [
    "filter_list = '!\"\\'#$%&()*+,-./:;<=>?@[\\\\]^_`{|}~\\t\\n'\n",
    "\n",
    "text_tokenizer = Tokenizer(filters=filter_list)\n",
    "text_tokenizer.fit_on_texts(text_list)\n",
    "print(\"Number of words in TEXT vocabulary:\", len(text_tokenizer.word_index))\n",
    "\n",
    "summary_tokenizer = Tokenizer(filters=filter_list)  \n",
    "summary_tokenizer.fit_on_texts(summary_list)\n",
    "print(\"Number of words in SUMMARY vocabulary:\", len(summary_tokenizer.word_index))"
   ]
  },
  {
   "cell_type": "code",
   "execution_count": 14,
   "metadata": {
    "collapsed": true
   },
   "outputs": [],
   "source": [
    "text_word_index = {}\n",
    "text_word_index['PAD'] = 0\n",
    "text_word_index['UNK'] = 1\n",
    "text_word_index['EOS'] = 2\n",
    "\n",
    "for i, word in enumerate(dict(text_tokenizer.word_index).keys()):\n",
    "    text_word_index[word] = i+3 # Move existing indices up by 3 places\n",
    "    \n",
    "text_tokenizer.word_index = text_word_index\n",
    "X = text_tokenizer.texts_to_sequences(text_list)\n",
    "\n",
    "# Replace OOV words with UNK token\n",
    "# Append EOS to the end of all sentences\n",
    "for i, seq in enumerate(X):\n",
    "    if any(t>=MAX_TEXT_VOCAB_SIZE for t in seq):\n",
    "        seq = [t if t<MAX_TEXT_VOCAB_SIZE else text_word_index['UNK'] for t in seq ]\n",
    "    seq.append(text_word_index['EOS'])\n",
    "    X[i] = seq    \n",
    "    \n",
    "# Padding and truncating sequences\n",
    "X = pad_sequences(X, padding='post', truncating='post', maxlen=MAX_TEXT_LEN, value=text_word_index['PAD'])\n",
    "\n",
    "# Finalize the dictionaries\n",
    "text_word_index = {k: v for k, v in text_word_index.items() if v < MAX_TEXT_VOCAB_SIZE} \n",
    "text_idx_to_word = dict((i, word) for word, i in text_word_index.items()) "
   ]
  },
  {
   "cell_type": "code",
   "execution_count": 15,
   "metadata": {
    "collapsed": true
   },
   "outputs": [],
   "source": [
    "summary_word_index = {}\n",
    "summary_word_index['PAD'] = 0\n",
    "summary_word_index['UNK'] = 1\n",
    "summary_word_index['EOS'] = 2\n",
    "summary_word_index['SOS'] = 3\n",
    "\n",
    "for i, word in enumerate(dict(summary_tokenizer.word_index).keys()):\n",
    "    summary_word_index[word] = i+4 # Move existing indices up by 4 places\n",
    "    \n",
    "summary_tokenizer.word_index = summary_word_index\n",
    "Y = summary_tokenizer.texts_to_sequences(summary_list)\n",
    "\n",
    "# Replace OOV words with UNK token\n",
    "# Append EOS to the end of all sentences\n",
    "for i, seq in enumerate(Y):\n",
    "    if any(t>=MAX_SUMMARY_VOCAB_SIZE for t in seq):\n",
    "        seq = [t if t<MAX_SUMMARY_VOCAB_SIZE else summary_word_index['UNK'] for t in seq ]\n",
    "    seq.append(summary_word_index['EOS'])\n",
    "    Y[i] = seq    \n",
    "    \n",
    "# Padding and truncating sequences\n",
    "Y = pad_sequences(Y, padding='post', truncating='post', maxlen=MAX_SUMMARY_LEN, value=summary_word_index['PAD'])\n",
    "\n",
    "# Finalize the dictionaries\n",
    "summary_word_index = {k: v for k, v in summary_word_index.items() if v < MAX_SUMMARY_VOCAB_SIZE} \n",
    "summary_idx_to_word = dict((i, word) for word, i in summary_word_index.items()) "
   ]
  },
  {
   "cell_type": "markdown",
   "metadata": {
    "collapsed": true
   },
   "source": [
    "### Train-Validation-Test Splits"
   ]
  },
  {
   "cell_type": "code",
   "execution_count": 16,
   "metadata": {
    "collapsed": true
   },
   "outputs": [],
   "source": [
    "X_train, X_val_test, Y_train, Y_val_test = train_test_split(X, Y, test_size=0.05)\n",
    "X_val, X_test, Y_val, Y_test = train_test_split(X_val_test, Y_val_test, test_size=0.5)"
   ]
  },
  {
   "cell_type": "markdown",
   "metadata": {},
   "source": [
    "### Embedding Matrix"
   ]
  },
  {
   "cell_type": "code",
   "execution_count": 17,
   "metadata": {},
   "outputs": [
    {
     "name": "stdout",
     "output_type": "stream",
     "text": [
      "[INFO]: Reading Word Embeddings ...\n"
     ]
    }
   ],
   "source": [
    "# Load GloVe word embeddings \n",
    "# Download Link: https://nlp.stanford.edu/projects/glove/\n",
    "print(\"[INFO]: Reading Word Embeddings ...\")\n",
    "# Data path\n",
    "embeddings = {}\n",
    "f = open(EMB_DIR)\n",
    "for line in f:\n",
    "    values = line.split()\n",
    "    word = values[0]\n",
    "    vector = np.asarray(values[1:], dtype='float32')\n",
    "    embeddings[word] = vector\n",
    "f.close()"
   ]
  },
  {
   "cell_type": "code",
   "execution_count": 18,
   "metadata": {
    "collapsed": true
   },
   "outputs": [],
   "source": [
    "encoder_embeddings_matrix = np.random.uniform(-0.05, 0.05, size=(len(text_word_index), EMBEDDING_DIM)) \n",
    "\n",
    "for word, i in text_word_index.items(): # i=0 is the embedding for the zero padding\n",
    "    try:\n",
    "        embeddings_vector = embeddings[word]\n",
    "    except KeyError:\n",
    "        embeddings_vector = None\n",
    "    if embeddings_vector is not None:\n",
    "        encoder_embeddings_matrix[i] = embeddings_vector"
   ]
  },
  {
   "cell_type": "code",
   "execution_count": 19,
   "metadata": {},
   "outputs": [
    {
     "name": "stdout",
     "output_type": "stream",
     "text": [
      "(30000, 300)\n"
     ]
    }
   ],
   "source": [
    "print(encoder_embeddings_matrix.shape)"
   ]
  },
  {
   "cell_type": "code",
   "execution_count": 20,
   "metadata": {},
   "outputs": [],
   "source": [
    "decoder_embeddings_matrix = np.random.uniform(-0.05, 0.05, size=(len(summary_word_index), EMBEDDING_DIM)) \n",
    "\n",
    "for word, i in summary_word_index.items(): # i=0 is the embedding for the zero padding\n",
    "    try:\n",
    "        embeddings_vector = embeddings[word]\n",
    "    except KeyError:\n",
    "        embeddings_vector = None\n",
    "    if embeddings_vector is not None:\n",
    "        decoder_embeddings_matrix[i] = embeddings_vector\n",
    "        \n",
    "del embeddings"
   ]
  },
  {
   "cell_type": "code",
   "execution_count": 21,
   "metadata": {},
   "outputs": [
    {
     "name": "stdout",
     "output_type": "stream",
     "text": [
      "(10000, 300)\n"
     ]
    }
   ],
   "source": [
    "print(decoder_embeddings_matrix.shape)"
   ]
  },
  {
   "cell_type": "markdown",
   "metadata": {},
   "source": [
    "### Model during training\n",
    "Input: [where, do, you, live, ?, EOS] <br>\n",
    "Output: [I, reside, in, waterloo, EOS] <br>\n",
    "When the model predicts wrongly, we need to correct it so that errors are not accumulated. __TEACHER FORCING__"
   ]
  },
  {
   "cell_type": "code",
   "execution_count": 22,
   "metadata": {},
   "outputs": [
    {
     "data": {
      "image/png": "[encoded data removed]",
      "text/plain": [
       "<IPython.core.display.Image object>"
      ]
     },
     "execution_count": 22,
     "metadata": {
      "image/png": {
       "width": 800
      }
     },
     "output_type": "execute_result"
    }
   ],
   "source": [
    "Image('images/seq2seq-training.png', width=800)"
   ]
  },
  {
   "cell_type": "markdown",
   "metadata": {},
   "source": [
    "### Keras Model Building\n",
    "Adapted from Keras blog post:\n",
    "https://blog.keras.io/a-ten-minute-introduction-to-sequence-to-sequence-learning-in-keras.html"
   ]
  },
  {
   "cell_type": "code",
   "execution_count": 23,
   "metadata": {
    "collapsed": true
   },
   "outputs": [],
   "source": [
    "from keras.models import Model\n",
    "from keras.layers import Input, LSTM, Dense, Embedding\n",
    "from keras import backend as K"
   ]
  },
  {
   "cell_type": "markdown",
   "metadata": {},
   "source": [
    "When the datasets are huge, it is a good idea to make use of the keras fit_generator. <br>\n",
    "Basically, we need to generator function that feeds inputs and corresponding outputs in a batch_wise fashion. <br>\n",
    "\n",
    "In our case, we have \n",
    "- encoder inputs\n",
    "- decoder inputs (which is the ground truth delayed by 1 timestep)\n",
    "- decoder outputs \n",
    "\n",
    "For decoder outputs for each token, we need to predict a softmax of the vocabulary |V|. If we have _m_ tokens and a training data size of _n_, we need to store a huge tensor of size _n_ x _m_ x |V|. In our case, 100000 x 5 x 10000.\n",
    "<br>\n",
    "\n",
    "This may not fit in memory. Even if it fits, it is not a good practice to keep such large variables, hence use the fit generator"
   ]
  },
  {
   "cell_type": "code",
   "execution_count": 24,
   "metadata": {
    "collapsed": true
   },
   "outputs": [],
   "source": [
    "def batch_generator(X, Y, BATCH_SIZE):\n",
    "\n",
    "    # this line is just to make the generator infinite, keras needs that    \n",
    "    while True:\n",
    "        \n",
    "        batch_start = 0\n",
    "        batch_end = BATCH_SIZE\n",
    "\n",
    "        while batch_start < len(X):\n",
    "            \n",
    "            [X_enc, X_dec], Y_dec = prepare_data(X, Y, batch_start, batch_end)\n",
    "            \n",
    "            yield ([X_enc, X_dec], Y_dec) \n",
    "\n",
    "            batch_start += BATCH_SIZE   \n",
    "            batch_end += BATCH_SIZE"
   ]
  },
  {
   "cell_type": "code",
   "execution_count": 25,
   "metadata": {
    "collapsed": true
   },
   "outputs": [],
   "source": [
    "def prepare_data(X, Y, batch_start, batch_end):\n",
    "    \n",
    "    # Encoder input\n",
    "    X_enc = X[batch_start:batch_end] \n",
    "\n",
    "    # Decoder input\n",
    "    # Concatenate a column of 3s (i.e., SOS token) to the Y and remove the last element\n",
    "    X_dec = np.c_[3 * np.ones([len(Y[batch_start:batch_end])]), Y[batch_start:batch_end, :-1]]\n",
    "\n",
    "    # Decoder output - one hot encoded for softmax layer - 1 in |V|\n",
    "    Y_dec = np.array([to_categorical(y, num_classes=len(summary_word_index)) for y in Y[batch_start:batch_end]])\n",
    "\n",
    "    return [X_enc, X_dec], Y_dec"
   ]
  },
  {
   "cell_type": "markdown",
   "metadata": {},
   "source": [
    "Sequence-to-sequence model for __training__:"
   ]
  },
  {
   "cell_type": "code",
   "execution_count": 26,
   "metadata": {
    "collapsed": true
   },
   "outputs": [],
   "source": [
    "K.set_learning_phase(1) # 1 for training, 0 for inference time"
   ]
  },
  {
   "cell_type": "code",
   "execution_count": 27,
   "metadata": {
    "collapsed": true
   },
   "outputs": [],
   "source": [
    "# Encoder Setup\n",
    "enc_input = Input(shape=(MAX_TEXT_LEN, ), name='encoder_input')\n",
    "enc_emb_look_up = Embedding(input_dim=MAX_TEXT_VOCAB_SIZE,\n",
    "                             output_dim=EMBEDDING_DIM,\n",
    "                             weights = [encoder_embeddings_matrix], \n",
    "                             trainable=False, \n",
    "                             mask_zero=True,\n",
    "                             name='encoder_embedding_lookup')\n",
    "\n",
    "enc_emb_text = enc_emb_look_up(enc_input)\n",
    "\n",
    "encoder_lstm = LSTM(LSTM_DIM, return_state=True, name='encoder_lstm', dropout=0.2) # To return the final state of the encoder\n",
    "encoder_outputs, state_h, state_c = encoder_lstm(enc_emb_text)\n",
    "encoder_states = [state_h, state_c] # Discard encoder_outputs (at each time step) and only keep the final states."
   ]
  },
  {
   "cell_type": "code",
   "execution_count": 28,
   "metadata": {
    "collapsed": true
   },
   "outputs": [],
   "source": [
    "# Decoder Setup\n",
    "dec_input = Input(shape=(None, ), name='decoder_input') # Specify None instead of MAX_SUMMARY_LEN\n",
    "# So that we can use the decoder with one-token prediction at a time\n",
    "# By specifying MAX_SUMMARY_LEN, we limit this capability of the decoder\n",
    "# That is, if MAX_SUMMARY_LEN is specified, we always have to provide MAX_SUMMARY_LEN tokens as input to the decoder\n",
    "# By not specifying, we can dynamically adjust it, i.e., MAX_SUMMARY_LEN during training and 1 during inference\n",
    "\n",
    "dec_emb_look_up = Embedding(input_dim=MAX_SUMMARY_VOCAB_SIZE,\n",
    "                             output_dim=EMBEDDING_DIM,\n",
    "                             weights = [decoder_embeddings_matrix], \n",
    "                             trainable=False, \n",
    "                             mask_zero=True,\n",
    "                             name='decoder_embedding_lookup')\n",
    "\n",
    "dec_emb_text = dec_emb_look_up(dec_input)\n",
    "\n",
    "# We set up our decoder to return full output sequences,\n",
    "# and to return internal LSTM states (h, c) as well. We don't use the \n",
    "# return states in the training model, but we will use them during inference.\n",
    "decoder_lstm = LSTM(LSTM_DIM, return_sequences=True, return_state=True, name='decoder_lstm', dropout=0.2)\n",
    "# Dropout needs to be set back to 0.0 for the inference time\n",
    "\n",
    "# Hidden state initialization using `encoder_states` as initial state.\n",
    "decoder_outputs, _, _ = decoder_lstm(dec_emb_text,\n",
    "                                     initial_state=encoder_states)\n",
    "\n",
    "decoder_dense = Dense(MAX_SUMMARY_VOCAB_SIZE, activation='softmax', name='output_layer')\n",
    "decoder_outputs = decoder_dense(decoder_outputs)\n",
    "\n",
    "# Define the model that will turn\n",
    "# `encoder_input_data` & `decoder_input_data` into `decoder_target_data`\n",
    "model = Model([enc_input, dec_input], decoder_outputs)"
   ]
  },
  {
   "cell_type": "code",
   "execution_count": 29,
   "metadata": {},
   "outputs": [
    {
     "name": "stdout",
     "output_type": "stream",
     "text": [
      "____________________________________________________________________________________________________\n",
      "Layer (type)                     Output Shape          Param #     Connected to                     \n",
      "====================================================================================================\n",
      "encoder_input (InputLayer)       (None, 100)           0                                            \n",
      "____________________________________________________________________________________________________\n",
      "decoder_input (InputLayer)       (None, None)          0                                            \n",
      "____________________________________________________________________________________________________\n",
      "encoder_embedding_lookup (Embedd (None, 100, 300)      9000000     encoder_input[0][0]              \n",
      "____________________________________________________________________________________________________\n",
      "decoder_embedding_lookup (Embedd (None, None, 300)     3000000     decoder_input[0][0]              \n",
      "____________________________________________________________________________________________________\n",
      "encoder_lstm (LSTM)              [(None, 300), (None,  721200      encoder_embedding_lookup[0][0]   \n",
      "____________________________________________________________________________________________________\n",
      "decoder_lstm (LSTM)              [(None, None, 300), ( 721200      decoder_embedding_lookup[0][0]   \n",
      "                                                                   encoder_lstm[0][1]               \n",
      "                                                                   encoder_lstm[0][2]               \n",
      "____________________________________________________________________________________________________\n",
      "output_layer (Dense)             (None, None, 10000)   3010000     decoder_lstm[0][0]               \n",
      "====================================================================================================\n",
      "Total params: 16,452,400\n",
      "Trainable params: 4,452,400\n",
      "Non-trainable params: 12,000,000\n",
      "____________________________________________________________________________________________________\n"
     ]
    }
   ],
   "source": [
    "model.summary()"
   ]
  },
  {
   "cell_type": "code",
   "execution_count": 30,
   "metadata": {},
   "outputs": [
    {
     "data": {
      "image/png": "[encoded data removed]",
      "text/plain": [
       "<IPython.core.display.Image object>"
      ]
     },
     "execution_count": 30,
     "metadata": {},
     "output_type": "execute_result"
    }
   ],
   "source": [
    "plot_model(model, to_file='images/full_model.png', show_layer_names=True, show_shapes=True)\n",
    "Image('images/full_model.png')"
   ]
  },
  {
   "cell_type": "markdown",
   "metadata": {},
   "source": [
    "### Model Training"
   ]
  },
  {
   "cell_type": "code",
   "execution_count": 31,
   "metadata": {
    "collapsed": true
   },
   "outputs": [],
   "source": [
    "# Set optimizer and loss function \n",
    "optimizer = keras.optimizers.Adam(lr=0.001) # Try a different learning rate\n",
    "\n",
    "loss = 'categorical_crossentropy'\n",
    "\n",
    "filepath=\"saved_models/seq2seq_textsummarization_{epoch:02d}_{val_loss:.4f}.h5\"\n",
    "checkpoint = callbacks.ModelCheckpoint(filepath, \n",
    "                                       monitor='val_loss', \n",
    "                                       verbose=0, \n",
    "                                       save_best_only=False)\n",
    "callbacks_list = [checkpoint]\n",
    "\n",
    "model.compile(optimizer=optimizer, loss=loss)"
   ]
  },
  {
   "cell_type": "markdown",
   "metadata": {
    "collapsed": true
   },
   "source": [
    "__Note:__ It is possible to write your own callback functions by instructing what needs to be done at the end of each epoch. <br>\n",
    "\n",
    "Homework - write a callback function to calculate BLEU scores on validation set and print generated samples at the end of each epoch <br>\n",
    "Check out https://keunwoochoi.wordpress.com/2016/07/16/keras-callbacks/"
   ]
  },
  {
   "cell_type": "code",
   "execution_count": 32,
   "metadata": {
    "collapsed": true
   },
   "outputs": [],
   "source": [
    "STEPS_PER_EPOCH = len(X_train)//BATCH_SIZE\n",
    "VAL_STEPS = len(X_val)//BATCH_SIZE"
   ]
  },
  {
   "cell_type": "code",
   "execution_count": 33,
   "metadata": {},
   "outputs": [
    {
     "name": "stdout",
     "output_type": "stream",
     "text": [
      "Epoch 1/1\n",
      "730/730 [==============================] - 300s - loss: 5.1908 - val_loss: 4.8209\n"
     ]
    },
    {
     "data": {
      "text/plain": [
       "<keras.callbacks.History at 0x7f49536c07f0>"
      ]
     },
     "execution_count": 33,
     "metadata": {},
     "output_type": "execute_result"
    }
   ],
   "source": [
    "model.fit_generator(batch_generator(X_train, Y_train, BATCH_SIZE), \n",
    "                    steps_per_epoch = STEPS_PER_EPOCH, \n",
    "                    epochs = N_EPOCHS,\n",
    "                    validation_data = batch_generator(X_val, Y_val, BATCH_SIZE), \n",
    "                    validation_steps = VAL_STEPS, \n",
    "                    callbacks = callbacks_list,\n",
    "                   )"
   ]
  },
  {
   "cell_type": "markdown",
   "metadata": {},
   "source": [
    "__Note__: It is best to write the above code onto a .py file and execute it directly on the command line. \n",
    "\n",
    "We may need to train the model for over 100 epcohs to get good sentence generations. \n",
    "\n",
    "In this case, the model was trained for 100 epochs, about 300 seconds (~5mins) per epoch on a single GPU."
   ]
  },
  {
   "cell_type": "markdown",
   "metadata": {
    "collapsed": true
   },
   "source": [
    "### Load Saved Model"
   ]
  },
  {
   "cell_type": "code",
   "execution_count": 34,
   "metadata": {
    "collapsed": true
   },
   "outputs": [],
   "source": [
    "from keras import models"
   ]
  },
  {
   "cell_type": "code",
   "execution_count": 35,
   "metadata": {
    "collapsed": true
   },
   "outputs": [],
   "source": [
    "model_file_path = 'saved_models/seq2seq_textsummarization_99_4.3841.h5'\n",
    "model = models.load_model(model_file_path)"
   ]
  },
  {
   "cell_type": "code",
   "execution_count": 36,
   "metadata": {
    "collapsed": true
   },
   "outputs": [],
   "source": [
    "TEST_STEPS = len(X_test)//BATCH_SIZE\n",
    "\n",
    "# Obtain the last layer output, i.e., the softmax probabilities\n",
    "preds = model.predict_generator(batch_generator(X_test, Y_test, BATCH_SIZE), steps = TEST_STEPS) "
   ]
  },
  {
   "cell_type": "code",
   "execution_count": 37,
   "metadata": {},
   "outputs": [
    {
     "data": {
      "text/plain": [
       "(2432, 5, 10000)"
      ]
     },
     "execution_count": 37,
     "metadata": {},
     "output_type": "execute_result"
    }
   ],
   "source": [
    "preds.shape"
   ]
  },
  {
   "cell_type": "code",
   "execution_count": 38,
   "metadata": {
    "collapsed": true
   },
   "outputs": [],
   "source": [
    "# Greedy Decoding\n",
    "outputs = [np.argmax(p, axis = -1) for p in preds]"
   ]
  },
  {
   "cell_type": "code",
   "execution_count": 39,
   "metadata": {},
   "outputs": [
    {
     "data": {
      "text/plain": [
       "[array([52, 74,  7,  2,  2]),\n",
       " array([ 41, 163,   2,  23,   2]),\n",
       " array([1824, 2027,   93,   72,    2]),\n",
       " array([  5, 425,   2,   0,   0]),\n",
       " array([ 18,   7,   2, 114,  28]),\n",
       " array([ 16, 267,  16,  94,  49]),\n",
       " array([  4,   4, 108,   2,   2]),\n",
       " array([ 9, 12,  5, 44,  6]),\n",
       " array([ 774,   10,  594,    2, 2116]),\n",
       " array([889,  19,  19,  81,  19])]"
      ]
     },
     "execution_count": 39,
     "metadata": {},
     "output_type": "execute_result"
    }
   ],
   "source": [
    "outputs[:10]"
   ]
  },
  {
   "cell_type": "code",
   "execution_count": 40,
   "metadata": {
    "collapsed": true
   },
   "outputs": [],
   "source": [
    "def show_summary_sentence(gen_ids):\n",
    "    pad = summary_word_index['PAD']\n",
    "    eos = summary_word_index['EOS']\n",
    "    print(' '.join([summary_idx_to_word[w] for w in gen_ids if w not in [pad, eos]]))"
   ]
  },
  {
   "cell_type": "code",
   "execution_count": 41,
   "metadata": {
    "collapsed": true
   },
   "outputs": [],
   "source": [
    "def show_input_text(inp_ids):\n",
    "    pad = text_word_index['PAD']\n",
    "    eos = text_word_index['EOS']\n",
    "    print(' '.join([text_idx_to_word[w] for w in inp_ids if w not in [pad, eos]]))"
   ]
  },
  {
   "cell_type": "code",
   "execution_count": 42,
   "metadata": {},
   "outputs": [
    {
     "name": "stdout",
     "output_type": "stream",
     "text": [
      "we buy our cats a high quality food for everyday eating and they do get cat treats which can add up when you have 4 cats i saw these on special and ordered for a great price i took the extra bags and sealed them up in food saver bags and put them in the freezer and kept one out to put in the treat jar br they love it its got all the UNK dazzle the healthy food does n t so when i give them each a little of this they think they\n",
      "\n",
      "Summary - great price for the treats\n",
      "\n",
      "----------------------------\n",
      "this product describes itself as 100 natural arabic this is pretty much what it is coffee and a some sugar i assume that most people will be buying this for a hit of caffeine so i ll compare it to some popular alternatives br br healthy let s face it most of the other energy drinks and caffeinated sodas on the market are chemicals and water some of them throw in a couple of vitamins to give the impression that they\n",
      "\n",
      "Summary - good those kid but\n",
      "\n",
      "----------------------------\n",
      "as always a pleasure to work with products are great and price is just right br thank you\n",
      "\n",
      "Summary - great great energy\n",
      "\n",
      "----------------------------\n",
      "i was able to find this at my on base commissary for three dollars and eighty nine cents much cheaper than amazon is asking br br we all love it has a very natural roasted peanut taste to it and my kids love mixing it\n",
      "\n",
      "Summary - very product i recommend\n",
      "\n",
      "----------------------------\n"
     ]
    }
   ],
   "source": [
    "for i in range(26, 30):\n",
    "    show_input_text(X_test[i])\n",
    "    print()\n",
    "    print('Summary - ', end='')\n",
    "    show_summary_sentence(outputs[i])\n",
    "    print('\\n----------------------------')"
   ]
  },
  {
   "cell_type": "code",
   "execution_count": 43,
   "metadata": {},
   "outputs": [
    {
     "name": "stdout",
     "output_type": "stream",
     "text": [
      "0, love and\n",
      "1, great great but low\n",
      "2, my a great product\n",
      "3, good unpleasant\n",
      "4, way salty me\n",
      "5, dog happy\n",
      "6, caribou brew coffee cup\n",
      "7, great amazingly\n",
      "8, do coffee very the\n",
      "9, love quality\n"
     ]
    }
   ],
   "source": [
    "for i, gen in enumerate(outputs[10:20]):\n",
    "    print(i, end=', ')\n",
    "    show_summary_sentence(gen)"
   ]
  },
  {
   "cell_type": "markdown",
   "metadata": {
    "collapsed": true
   },
   "source": [
    "### Is this the right way to test ?\n",
    "\n",
    "There is no decoder input/output (Y_test) available at inference or test time!\n"
   ]
  },
  {
   "cell_type": "markdown",
   "metadata": {},
   "source": [
    "#### Sequence-to-sequence model for __inference__:\n",
    "\n",
    "At timestep t, we predict a target token, then use the embedding of the predicted token as input to timestep (t+1)"
   ]
  },
  {
   "cell_type": "code",
   "execution_count": 44,
   "metadata": {},
   "outputs": [
    {
     "data": {
      "image/png": "[encoded data removed]",
      "text/plain": [
       "<IPython.core.display.Image object>"
      ]
     },
     "execution_count": 44,
     "metadata": {
      "image/png": {
       "width": 800
      }
     },
     "output_type": "execute_result"
    }
   ],
   "source": [
    "Image('images/seq2seq-inference.png', width=800)"
   ]
  },
  {
   "cell_type": "markdown",
   "metadata": {},
   "source": [
    "#### Encoder Setup"
   ]
  },
  {
   "cell_type": "code",
   "execution_count": 45,
   "metadata": {},
   "outputs": [
    {
     "name": "stdout",
     "output_type": "stream",
     "text": [
      "_________________________________________________________________\n",
      "Layer (type)                 Output Shape              Param #   \n",
      "=================================================================\n",
      "encoder_input (InputLayer)   (None, 100)               0         \n",
      "_________________________________________________________________\n",
      "encoder_embedding_lookup (Em (None, 100, 300)          9000000   \n",
      "_________________________________________________________________\n",
      "encoder_lstm (LSTM)          [(None, 300), (None, 300) 721200    \n",
      "=================================================================\n",
      "Total params: 9,721,200\n",
      "Trainable params: 721,200\n",
      "Non-trainable params: 9,000,000\n",
      "_________________________________________________________________\n"
     ]
    }
   ],
   "source": [
    "encoder_model = Model(enc_input, encoder_states)\n",
    "encoder_model.summary()"
   ]
  },
  {
   "cell_type": "code",
   "execution_count": 46,
   "metadata": {},
   "outputs": [
    {
     "data": {
      "image/png": "[encoded data removed]",
      "text/plain": [
       "<IPython.core.display.Image object>"
      ]
     },
     "execution_count": 46,
     "metadata": {},
     "output_type": "execute_result"
    }
   ],
   "source": [
    "plot_model(encoder_model, to_file='images/encoder_model.png', show_layer_names=True, show_shapes=True)\n",
    "Image('images/encoder_model.png')"
   ]
  },
  {
   "cell_type": "code",
   "execution_count": null,
   "metadata": {
    "collapsed": true
   },
   "outputs": [],
   "source": []
  },
  {
   "cell_type": "markdown",
   "metadata": {},
   "source": [
    "#### Decoder Setup\n",
    "At inference time, we predict ONE TOKEN AT A TIME\n",
    "<br> Input: previous cell/hidden states and the embedding of the token from the previous time step \n",
    "<br> Output: current cell/hidden states and the output token's embedding \n",
    "\n"
   ]
  },
  {
   "cell_type": "code",
   "execution_count": 47,
   "metadata": {
    "collapsed": true
   },
   "outputs": [],
   "source": [
    "decoder_state_input_h = Input(shape=(LSTM_DIM,), name='decoder_state_input_h')\n",
    "decoder_state_input_c = Input(shape=(LSTM_DIM,), name='decoder_state_input_c')\n",
    "decoder_states_inputs = [decoder_state_input_h, decoder_state_input_c]\n",
    "\n",
    "decoder_outputs, state_h, state_c = decoder_lstm(inputs=dec_emb_text, initial_state=decoder_states_inputs)\n",
    "\n",
    "decoder_states = [state_h, state_c]\n",
    "decoder_outputs = decoder_dense(decoder_outputs)\n",
    "\n",
    "decoder_model = Model(inputs = [dec_input] + decoder_states_inputs,\n",
    "                      outputs = [decoder_outputs] + decoder_states\n",
    "                     )"
   ]
  },
  {
   "cell_type": "code",
   "execution_count": 48,
   "metadata": {},
   "outputs": [
    {
     "name": "stdout",
     "output_type": "stream",
     "text": [
      "____________________________________________________________________________________________________\n",
      "Layer (type)                     Output Shape          Param #     Connected to                     \n",
      "====================================================================================================\n",
      "decoder_input (InputLayer)       (None, None)          0                                            \n",
      "____________________________________________________________________________________________________\n",
      "decoder_embedding_lookup (Embedd (None, None, 300)     3000000     decoder_input[0][0]              \n",
      "____________________________________________________________________________________________________\n",
      "decoder_state_input_h (InputLaye (None, 300)           0                                            \n",
      "____________________________________________________________________________________________________\n",
      "decoder_state_input_c (InputLaye (None, 300)           0                                            \n",
      "____________________________________________________________________________________________________\n",
      "decoder_lstm (LSTM)              [(None, None, 300), ( 721200      decoder_embedding_lookup[0][0]   \n",
      "                                                                   decoder_state_input_h[0][0]      \n",
      "                                                                   decoder_state_input_c[0][0]      \n",
      "____________________________________________________________________________________________________\n",
      "output_layer (Dense)             (None, None, 10000)   3010000     decoder_lstm[1][0]               \n",
      "====================================================================================================\n",
      "Total params: 6,731,200\n",
      "Trainable params: 3,731,200\n",
      "Non-trainable params: 3,000,000\n",
      "____________________________________________________________________________________________________\n"
     ]
    }
   ],
   "source": [
    "decoder_model.summary()"
   ]
  },
  {
   "cell_type": "code",
   "execution_count": 49,
   "metadata": {},
   "outputs": [
    {
     "data": {
      "image/png": "[encoded data removed]",
      "text/plain": [
       "<IPython.core.display.Image object>"
      ]
     },
     "execution_count": 49,
     "metadata": {},
     "output_type": "execute_result"
    }
   ],
   "source": [
    "plot_model(decoder_model, to_file='images/decoder_model.png', show_layer_names=True, show_shapes=True)\n",
    "Image('images/decoder_model.png')"
   ]
  },
  {
   "cell_type": "code",
   "execution_count": null,
   "metadata": {
    "collapsed": true
   },
   "outputs": [],
   "source": []
  },
  {
   "cell_type": "markdown",
   "metadata": {},
   "source": [
    "### Weight Transfer\n",
    "The above encoder and decoder models that we setup for inference have been initialized with random weights.\n",
    "\n",
    "Take the weights of the trained model (that is loaded into memory) and assign the encoder and decoder models with these weights.\n",
    "\n",
    "For weight transfer, the important thing to keep in mind is that we do not mis-align any weight matrices.\n",
    "\n",
    "Use <br>\n",
    "`model.get_weights()`  \n",
    "and   \n",
    "`model.set_weights()`"
   ]
  },
  {
   "cell_type": "code",
   "execution_count": 50,
   "metadata": {},
   "outputs": [
    {
     "data": {
      "text/plain": [
       "[<tf.Variable 'encoder_lstm_1/kernel:0' shape=(300, 1200) dtype=float32_ref>,\n",
       " <tf.Variable 'encoder_lstm_1/recurrent_kernel:0' shape=(300, 1200) dtype=float32_ref>,\n",
       " <tf.Variable 'encoder_lstm_1/bias:0' shape=(1200,) dtype=float32_ref>,\n",
       " <tf.Variable 'decoder_lstm_1/kernel:0' shape=(300, 1200) dtype=float32_ref>,\n",
       " <tf.Variable 'decoder_lstm_1/recurrent_kernel:0' shape=(300, 1200) dtype=float32_ref>,\n",
       " <tf.Variable 'decoder_lstm_1/bias:0' shape=(1200,) dtype=float32_ref>,\n",
       " <tf.Variable 'output_layer_1/kernel:0' shape=(300, 10000) dtype=float32_ref>,\n",
       " <tf.Variable 'output_layer_1/bias:0' shape=(10000,) dtype=float32_ref>,\n",
       " <tf.Variable 'encoder_embedding_lookup_1/embeddings:0' shape=(30000, 300) dtype=float32_ref>,\n",
       " <tf.Variable 'decoder_embedding_lookup_1/embeddings:0' shape=(10000, 300) dtype=float32_ref>]"
      ]
     },
     "execution_count": 50,
     "metadata": {},
     "output_type": "execute_result"
    }
   ],
   "source": [
    "model.weights"
   ]
  },
  {
   "cell_type": "code",
   "execution_count": 51,
   "metadata": {},
   "outputs": [
    {
     "data": {
      "text/plain": [
       "[<tf.Variable 'encoder_lstm/kernel:0' shape=(300, 1200) dtype=float32_ref>,\n",
       " <tf.Variable 'encoder_lstm/recurrent_kernel:0' shape=(300, 1200) dtype=float32_ref>,\n",
       " <tf.Variable 'encoder_lstm/bias:0' shape=(1200,) dtype=float32_ref>,\n",
       " <tf.Variable 'encoder_embedding_lookup/embeddings:0' shape=(30000, 300) dtype=float32_ref>]"
      ]
     },
     "execution_count": 51,
     "metadata": {},
     "output_type": "execute_result"
    }
   ],
   "source": [
    "encoder_model.weights"
   ]
  },
  {
   "cell_type": "code",
   "execution_count": 52,
   "metadata": {},
   "outputs": [
    {
     "data": {
      "text/plain": [
       "[<tf.Variable 'decoder_lstm/kernel:0' shape=(300, 1200) dtype=float32_ref>,\n",
       " <tf.Variable 'decoder_lstm/recurrent_kernel:0' shape=(300, 1200) dtype=float32_ref>,\n",
       " <tf.Variable 'decoder_lstm/bias:0' shape=(1200,) dtype=float32_ref>,\n",
       " <tf.Variable 'output_layer/kernel:0' shape=(300, 10000) dtype=float32_ref>,\n",
       " <tf.Variable 'output_layer/bias:0' shape=(10000,) dtype=float32_ref>,\n",
       " <tf.Variable 'decoder_embedding_lookup/embeddings:0' shape=(10000, 300) dtype=float32_ref>]"
      ]
     },
     "execution_count": 52,
     "metadata": {},
     "output_type": "execute_result"
    }
   ],
   "source": [
    "decoder_model.weights"
   ]
  },
  {
   "cell_type": "code",
   "execution_count": 53,
   "metadata": {
    "collapsed": true
   },
   "outputs": [],
   "source": [
    "model_weight_list = model.get_weights()\n",
    "\n",
    "encoder_indices = [0, 2, 3, 4] # Index 1 is the decoder-side embedding matrix weights\n",
    "encoder_weights = [model_weight_list[idx] for idx in encoder_indices]\n",
    "encoder_model.set_weights(encoder_weights)\n",
    "\n",
    "decoder_indices = list(set(range(len(model_weight_list))) - set(encoder_indices))\n",
    "decoder_weights = [model_weight_list[idx] for idx in decoder_indices]\n",
    "decoder_model.set_weights(decoder_weights)"
   ]
  },
  {
   "cell_type": "code",
   "execution_count": null,
   "metadata": {
    "collapsed": true
   },
   "outputs": [],
   "source": []
  },
  {
   "cell_type": "code",
   "execution_count": 54,
   "metadata": {
    "collapsed": true
   },
   "outputs": [],
   "source": [
    "# Specify that we are now at the inference stage, i.e., NOT learning\n",
    "K.set_learning_phase(0)"
   ]
  },
  {
   "cell_type": "code",
   "execution_count": 55,
   "metadata": {
    "collapsed": true
   },
   "outputs": [],
   "source": [
    "def decode_test_sequence(test_seq_input):\n",
    "    \n",
    "    # Retrieve the encoder output states, h and c\n",
    "    states_value = encoder_model.predict(test_seq_input)\n",
    "\n",
    "    # Initialize the decoding process\n",
    "    time_step = 0\n",
    "    stop_condition = False\n",
    "    input_seq_decoder = [summary_word_index['SOS']] # Start with SOS token\n",
    "    output_seq = [] \n",
    "\n",
    "    print('Timestep | Input ----> Output')\n",
    "\n",
    "    while not stop_condition:\n",
    "\n",
    "        output_probs, h, c = decoder_model.predict([np.array([input_seq_decoder]), \n",
    "                                                 states_value[0], \n",
    "                                                 states_value[1]] )\n",
    "\n",
    "        predicted_token = np.argmax(output_probs, axis=-1)[0][time_step]\n",
    "        output_seq.append(predicted_token)\n",
    "\n",
    "        print(time_step + 1, '|', input_seq_decoder, '---->', output_seq)\n",
    "\n",
    "        time_step += 1\n",
    "\n",
    "        # Stop iteration either when EOS is reached or when we reach the last timestep\n",
    "        # Timestep is from 0 to 4. Max allowed is 4\n",
    "        if (predicted_token == summary_word_index['EOS'] or time_step > MAX_SUMMARY_LEN - 1): \n",
    "                stop_condition = True\n",
    "        else:\n",
    "            # Create the inputs for the next iteration\n",
    "            input_seq_decoder.append(predicted_token)\n",
    "\n",
    "            states_value[0] = h\n",
    "            states_value[1] = c\n",
    "                \n",
    "    print('\\n----------------------------')\n",
    "    print('Text - ', end='')\n",
    "    show_input_text(test_seq_input[0])\n",
    "    print()\n",
    "    print('Summary - ', end='')\n",
    "    show_summary_sentence(output_seq)\n",
    "    \n",
    "    return output_seq"
   ]
  },
  {
   "cell_type": "code",
   "execution_count": 56,
   "metadata": {},
   "outputs": [
    {
     "name": "stdout",
     "output_type": "stream",
     "text": [
      "Timestep | Input ----> Output\n",
      "1 | [3] ----> [12]\n",
      "2 | [3, 12] ----> [12, 28]\n",
      "3 | [3, 12, 28] ----> [12, 28, 42]\n",
      "4 | [3, 12, 28, 42] ----> [12, 28, 42, 32]\n",
      "5 | [3, 12, 28, 42, 32] ----> [12, 28, 42, 32, 186]\n",
      "\n",
      "----------------------------\n",
      "Text - my dog loves them i have cut them into smaller pieces and she will chew for quite a while to finish one off i still do n t know if it helps her digestion but she sure loves them\n",
      "\n",
      "Summary - my dog loves these eat\n"
     ]
    }
   ],
   "source": [
    "test_seq_inp = X_test[15:16]\n",
    "test_output_gen = decode_test_sequence(test_seq_inp)"
   ]
  },
  {
   "cell_type": "code",
   "execution_count": null,
   "metadata": {
    "collapsed": true
   },
   "outputs": [],
   "source": []
  },
  {
   "cell_type": "markdown",
   "metadata": {
    "collapsed": true
   },
   "source": [
    "### Next Steps\n",
    "- Monitor loss, BLEU scores and generated sentences. \n",
    "- Beam Search Decoder\n",
    "- Attention Mechanism: are very helful in seq2seq models <br>\n",
    "  Links: \n",
    "    <br>https://machinelearningmastery.com/encoder-decoder-attention-sequence-to-sequence-prediction-keras/\n",
    "    <br>https://wanasit.github.io/attention-based-sequence-to-sequence-in-keras.html\n",
    "        \n",
    "- Visualize attention using the greyscale matrices"
   ]
  },
  {
   "cell_type": "code",
   "execution_count": null,
   "metadata": {
    "collapsed": true
   },
   "outputs": [],
   "source": []
  }
 ],
 "metadata": {
  "kernelspec": {
   "display_name": "Python 3",
   "language": "python",
   "name": "python3"
  },
  "language_info": {
   "codemirror_mode": {
    "name": "ipython",
    "version": 3
   },
   "file_extension": ".py",
   "mimetype": "text/x-python",
   "name": "python",
   "nbconvert_exporter": "python",
   "pygments_lexer": "ipython3",
   "version": "3.6.1"
  }
 },
 "nbformat": 4,
 "nbformat_minor": 2
}
