{
 "cells": [
  {
   "cell_type": "code",
   "execution_count": 1,
   "metadata": {
    "collapsed": true
   },
   "outputs": [],
   "source": [
    "import os\n",
    "\n",
    "os.environ[\"CUDA_DEVICE_ORDER\"] = \"PCI_BUS_ID\"\n",
    "os.environ[\"CUDA_VISIBLE_DEVICES\"] = \"1\"\n",
    "\n",
    "import tensorflow as tf\n",
    "\n",
    "tf_config = tf.ConfigProto()\n",
    "tf_config.gpu_options.allow_growth = True\n",
    "sess = tf.Session(config=tf_config)"
   ]
  },
  {
   "cell_type": "code",
   "execution_count": 2,
   "metadata": {},
   "outputs": [
    {
     "name": "stderr",
     "output_type": "stream",
     "text": [
      "Using TensorFlow backend.\n"
     ]
    }
   ],
   "source": [
    "import keras\n",
    "import pandas as pd\n",
    "import numpy as np\n",
    "\n",
    "from sklearn.model_selection import train_test_split\n",
    "from nltk.tokenize import word_tokenize\n",
    "from keras.preprocessing.text import text_to_word_sequence, Tokenizer\n",
    "from keras.preprocessing.sequence import pad_sequences\n",
    "\n",
    "import matplotlib as mpl\n",
    "%matplotlib inline\n",
    "from matplotlib import pyplot as plt\n",
    "from keras.utils import plot_model \n",
    "from IPython.display import Image"
   ]
  },
  {
   "cell_type": "code",
   "execution_count": 3,
   "metadata": {},
   "outputs": [
    {
     "data": {
      "text/plain": [
       "'2.0.8'"
      ]
     },
     "execution_count": 3,
     "metadata": {},
     "output_type": "execute_result"
    }
   ],
   "source": [
    "keras.__version__"
   ]
  },
  {
   "cell_type": "code",
   "execution_count": 4,
   "metadata": {},
   "outputs": [
    {
     "data": {
      "text/plain": [
       "'1.3.0'"
      ]
     },
     "execution_count": 4,
     "metadata": {},
     "output_type": "execute_result"
    }
   ],
   "source": [
    "tf.__version__"
   ]
  },
  {
   "cell_type": "code",
   "execution_count": null,
   "metadata": {
    "collapsed": true
   },
   "outputs": [],
   "source": []
  },
  {
   "cell_type": "markdown",
   "metadata": {},
   "source": [
    "### Hyperparameters"
   ]
  },
  {
   "cell_type": "code",
   "execution_count": 5,
   "metadata": {
    "collapsed": true
   },
   "outputs": [],
   "source": [
    "DATA_FILE_PATH = 'data/quora_duplicate_questions.tsv' \n",
    "EMB_DIR = '/collection/hpallika/deeplearning/research_work/word_embeddings/glove.6B.50d.txt'\n",
    "\n",
    "MAX_VOCAB_SIZE = 30000\n",
    "MAX_SENT_LEN = 15\n",
    "EMBEDDING_DIM = 50\n",
    "BATCH_SIZE = 32\n",
    "N_EPOCHS = 10"
   ]
  },
  {
   "cell_type": "code",
   "execution_count": 6,
   "metadata": {},
   "outputs": [
    {
     "name": "stdout",
     "output_type": "stream",
     "text": [
      "Dataset size: (100000, 6)\n"
     ]
    },
    {
     "data": {
      "text/html": [
       "<div>\n",
       "<style scoped>\n",
       "    .dataframe tbody tr th:only-of-type {\n",
       "        vertical-align: middle;\n",
       "    }\n",
       "\n",
       "    .dataframe tbody tr th {\n",
       "        vertical-align: top;\n",
       "    }\n",
       "\n",
       "    .dataframe thead th {\n",
       "        text-align: right;\n",
       "    }\n",
       "</style>\n",
       "<table border=\"1\" class=\"dataframe\">\n",
       "  <thead>\n",
       "    <tr style=\"text-align: right;\">\n",
       "      <th></th>\n",
       "      <th>id</th>\n",
       "      <th>qid1</th>\n",
       "      <th>qid2</th>\n",
       "      <th>question1</th>\n",
       "      <th>question2</th>\n",
       "      <th>is_duplicate</th>\n",
       "    </tr>\n",
       "  </thead>\n",
       "  <tbody>\n",
       "    <tr>\n",
       "      <th>0</th>\n",
       "      <td>0</td>\n",
       "      <td>1</td>\n",
       "      <td>2</td>\n",
       "      <td>What is the step by step guide to invest in sh...</td>\n",
       "      <td>What is the step by step guide to invest in sh...</td>\n",
       "      <td>0</td>\n",
       "    </tr>\n",
       "    <tr>\n",
       "      <th>1</th>\n",
       "      <td>1</td>\n",
       "      <td>3</td>\n",
       "      <td>4</td>\n",
       "      <td>What is the story of Kohinoor (Koh-i-Noor) Dia...</td>\n",
       "      <td>What would happen if the Indian government sto...</td>\n",
       "      <td>0</td>\n",
       "    </tr>\n",
       "    <tr>\n",
       "      <th>2</th>\n",
       "      <td>2</td>\n",
       "      <td>5</td>\n",
       "      <td>6</td>\n",
       "      <td>How can I increase the speed of my internet co...</td>\n",
       "      <td>How can Internet speed be increased by hacking...</td>\n",
       "      <td>0</td>\n",
       "    </tr>\n",
       "  </tbody>\n",
       "</table>\n",
       "</div>"
      ],
      "text/plain": [
       "   id  qid1  qid2                                          question1  \\\n",
       "0   0     1     2  What is the step by step guide to invest in sh...   \n",
       "1   1     3     4  What is the story of Kohinoor (Koh-i-Noor) Dia...   \n",
       "2   2     5     6  How can I increase the speed of my internet co...   \n",
       "\n",
       "                                           question2  is_duplicate  \n",
       "0  What is the step by step guide to invest in sh...             0  \n",
       "1  What would happen if the Indian government sto...             0  \n",
       "2  How can Internet speed be increased by hacking...             0  "
      ]
     },
     "execution_count": 6,
     "metadata": {},
     "output_type": "execute_result"
    }
   ],
   "source": [
    "df_questions = pd.read_table(DATA_FILE_PATH, sep='\\t', nrows=100000)\n",
    "print('Dataset size:', df_questions.shape)\n",
    "df_questions.head(3)"
   ]
  },
  {
   "cell_type": "code",
   "execution_count": 7,
   "metadata": {
    "collapsed": true
   },
   "outputs": [],
   "source": [
    "# Converting all questions to string\n",
    "df_questions['question1'] = df_questions['question1'].apply(lambda x: str(x))\n",
    "df_questions['question2'] = df_questions['question2'].apply(lambda x: str(x))"
   ]
  },
  {
   "cell_type": "code",
   "execution_count": 8,
   "metadata": {},
   "outputs": [
    {
     "data": {
      "text/plain": [
       "3305             .\n",
       "13016            ?\n",
       "20797            ?\n",
       "23888           HH\n",
       "25233        What?\n",
       "25320      deleted\n",
       "54040         I'm \n",
       "57496      grammar\n",
       "63292    How long?\n",
       "63726        What?\n",
       "Name: question1, dtype: object"
      ]
     },
     "execution_count": 8,
     "metadata": {},
     "output_type": "execute_result"
    }
   ],
   "source": [
    "sent_len = lambda x:len(x)\n",
    "df_questions['q1_length'] = df_questions.question1.apply(sent_len)\n",
    "df_questions['q2_length'] = df_questions.question2.apply(sent_len)\n",
    "df_questions[df_questions['q1_length']<10]['question1'].head(10)"
   ]
  },
  {
   "cell_type": "code",
   "execution_count": 9,
   "metadata": {},
   "outputs": [
    {
     "data": {
      "text/plain": [
       "0    62718\n",
       "1    37260\n",
       "Name: is_duplicate, dtype: int64"
      ]
     },
     "execution_count": 9,
     "metadata": {},
     "output_type": "execute_result"
    }
   ],
   "source": [
    "# Questions having lesser than 10 characters can be discarded. \n",
    "indices = set(df_questions[df_questions['q1_length']<10].index).union(df_questions[df_questions['q2_length']<10].index)\n",
    "\n",
    "# Can drop the character count columns - to save memory\n",
    "df_questions.drop(['q1_length','q2_length'], inplace=True, axis=1)\n",
    "\n",
    "df_questions.drop(indices, inplace=True)\n",
    "df_questions.reset_index()\n",
    "\n",
    "df_questions.is_duplicate.value_counts()"
   ]
  },
  {
   "cell_type": "code",
   "execution_count": 10,
   "metadata": {},
   "outputs": [
    {
     "name": "stdout",
     "output_type": "stream",
     "text": [
      "Question-1 :80.0 % of the sentences have a length less than or equal to 14.0\n",
      "Question-2 :80.0 % of the sentences have a length less than or equal to 14.0\n"
     ]
    }
   ],
   "source": [
    "word_count = lambda x:len(x.split()) # Word count for each question\n",
    "df_questions['q1_wc'] = df_questions.question1.apply(word_count)\n",
    "df_questions['q2_wc'] = df_questions.question2.apply(word_count)\n",
    "\n",
    "p = 80.0\n",
    "\n",
    "print('Question-1 :{} % of the sentences have a length less than or equal to {}'.format(p, np.percentile(df_questions['q1_wc'], 80)))\n",
    "print('Question-2 :{} % of the sentences have a length less than or equal to {}'.format(p, np.percentile(df_questions['q2_wc'], 80)))"
   ]
  },
  {
   "cell_type": "code",
   "execution_count": null,
   "metadata": {
    "collapsed": true
   },
   "outputs": [],
   "source": []
  },
  {
   "cell_type": "markdown",
   "metadata": {},
   "source": [
    "Better to use NLTK tokenizer first and then Keras word to indices <br>\n",
    "Keras: 'what is this?' -> ['what', 'is', 'this?']"
   ]
  },
  {
   "cell_type": "code",
   "execution_count": 11,
   "metadata": {},
   "outputs": [
    {
     "name": "stdout",
     "output_type": "stream",
     "text": [
      "CPU times: user 22.6 s, sys: 236 ms, total: 22.9 s\n",
      "Wall time: 22.5 s\n"
     ]
    }
   ],
   "source": [
    "%%time\n",
    "question_list = list(df_questions['question1']) + list(df_questions['question2'])\n",
    "question_list = [' '.join(word_tokenize(q)[:MAX_SENT_LEN]) for q in question_list]"
   ]
  },
  {
   "cell_type": "code",
   "execution_count": 12,
   "metadata": {},
   "outputs": [
    {
     "data": {
      "text/plain": [
       "['What is the step by step guide to invest in share market in india ?',\n",
       " 'What is the story of Kohinoor ( Koh-i-Noor ) Diamond ?',\n",
       " 'How can I increase the speed of my internet connection while using a VPN ?',\n",
       " 'Why am I mentally very lonely ? How can I solve it ?',\n",
       " 'Which one dissolve in water quikly sugar , salt , methane and carbon di oxide',\n",
       " 'Astrology : I am a Capricorn Sun Cap moon and cap rising ... what does',\n",
       " 'Should I buy tiago ?',\n",
       " 'How can I be a good geologist ?',\n",
       " 'When do you use シ instead of し ?',\n",
       " 'Motorola ( company ) : Can I hack my Charter Motorolla DCX3400 ?']"
      ]
     },
     "execution_count": 12,
     "metadata": {},
     "output_type": "execute_result"
    }
   ],
   "source": [
    "question_list[:10] # Data is noisy with many unwanted characters"
   ]
  },
  {
   "cell_type": "code",
   "execution_count": 13,
   "metadata": {},
   "outputs": [
    {
     "name": "stdout",
     "output_type": "stream",
     "text": [
      "Number of words in vocabulary: 43965\n"
     ]
    }
   ],
   "source": [
    "# Filters - removed '?' \n",
    "tokenizer = Tokenizer(num_words=MAX_VOCAB_SIZE, filters='!\"#$%&()*+,-./:;<=>@[\\\\]^_`{|}~\\t\\n') \n",
    "tokenizer.fit_on_texts(question_list)\n",
    "\n",
    "print(\"Number of words in vocabulary:\", len(tokenizer.word_index))"
   ]
  },
  {
   "cell_type": "code",
   "execution_count": 14,
   "metadata": {
    "collapsed": true
   },
   "outputs": [],
   "source": [
    "# Limit vocab and idx-word dictionary\n",
    "word_index =  word_index = {k: v for k, v in tokenizer.word_index.items() if v < MAX_VOCAB_SIZE}\n",
    "idx_to_word = dict((v,k) for k,v in word_index.items())"
   ]
  },
  {
   "cell_type": "code",
   "execution_count": 15,
   "metadata": {},
   "outputs": [
    {
     "data": {
      "text/plain": [
       "array([[    3,     4,     2,  1408,    62,  1408,  3321,     8,   578,\n",
       "            9,   767,   399,     9,    37,     1],\n",
       "       [    3,     4,     2,   647,    11, 11651, 12828,     6, 16482,\n",
       "         4236,     1,     0,     0,     0,     0],\n",
       "       [    5,    14,     6,   198,     2,   476,    11,    19,   357,\n",
       "         2234,   219,   146,     7,  2796,     1]], dtype=int32)"
      ]
     },
     "execution_count": 15,
     "metadata": {},
     "output_type": "execute_result"
    }
   ],
   "source": [
    "X = tokenizer.texts_to_sequences(question_list)\n",
    "X = pad_sequences(X, maxlen=MAX_SENT_LEN, padding='post', truncating='post')\n",
    "\n",
    "X_q1 = X[:len(X)//2]\n",
    "X_q2 = X[len(X)//2:]\n",
    "del X\n",
    "\n",
    "X_q1[:3]"
   ]
  },
  {
   "cell_type": "code",
   "execution_count": 16,
   "metadata": {
    "collapsed": true
   },
   "outputs": [],
   "source": [
    "X_train_q1, X_test_q1, X_train_q2, X_test_q2, y_train, y_test = train_test_split(X_q1,\n",
    "                                                                                 X_q2,\n",
    "                                                                                 df_questions['is_duplicate'],\n",
    "                                                                                 random_state=10, \n",
    "                                                                                 test_size=0.1)"
   ]
  },
  {
   "cell_type": "markdown",
   "metadata": {},
   "source": [
    "### Embedding Matrix"
   ]
  },
  {
   "cell_type": "code",
   "execution_count": 17,
   "metadata": {},
   "outputs": [
    {
     "name": "stdout",
     "output_type": "stream",
     "text": [
      "[INFO]: Reading Word Embeddings ...\n"
     ]
    }
   ],
   "source": [
    "# Load GloVe word embeddings \n",
    "# Download Link: https://nlp.stanford.edu/projects/glove/\n",
    "print(\"[INFO]: Reading Word Embeddings ...\")\n",
    "# Data path\n",
    "embeddings = {}\n",
    "f = open(EMB_DIR)\n",
    "for line in f:\n",
    "    values = line.split()\n",
    "    word = values[0]\n",
    "    vector = np.asarray(values[1:], dtype='float32')\n",
    "    embeddings[word] = vector\n",
    "f.close()"
   ]
  },
  {
   "cell_type": "code",
   "execution_count": 18,
   "metadata": {
    "collapsed": true
   },
   "outputs": [],
   "source": [
    "# Create an embedding matrix containing only the word's in our vocabulary\n",
    "# If the word does not have a pre-trained embedding, then randomly initialize the embedding\n",
    "embeddings_matrix = np.random.uniform(-0.05, 0.05, size=(len(word_index)+1, EMBEDDING_DIM)) # +1 is because the matrix indices start with 0\n",
    "\n",
    "for word, i in word_index.items(): # i=0 is the embedding for the zero padding\n",
    "    try:\n",
    "        embeddings_vector = embeddings[word]\n",
    "    except KeyError:\n",
    "        embeddings_vector = None\n",
    "    if embeddings_vector is not None:\n",
    "        embeddings_matrix[i] = embeddings_vector\n",
    "        \n",
    "del embeddings"
   ]
  },
  {
   "cell_type": "markdown",
   "metadata": {},
   "source": [
    "### CNN with Keras Model API\n",
    "Also called Graph/Functional API"
   ]
  },
  {
   "cell_type": "code",
   "execution_count": 19,
   "metadata": {
    "collapsed": true
   },
   "outputs": [],
   "source": [
    "from keras.models import Model\n",
    "from keras.layers import Layer, Input, Dense, Concatenate, Conv2D, Reshape, MaxPooling1D, Flatten, BatchNormalization, Activation, Dropout, Embedding"
   ]
  },
  {
   "cell_type": "code",
   "execution_count": 20,
   "metadata": {
    "collapsed": true
   },
   "outputs": [],
   "source": [
    "# Bigram and trigram filters\n",
    "bi_filter_size = 2\n",
    "tri_filter_size = 3\n",
    "\n",
    "num_filters = 20"
   ]
  },
  {
   "cell_type": "code",
   "execution_count": null,
   "metadata": {
    "collapsed": true
   },
   "outputs": [],
   "source": []
  },
  {
   "cell_type": "markdown",
   "metadata": {},
   "source": [
    "#### Question 1 Computational Graph"
   ]
  },
  {
   "cell_type": "code",
   "execution_count": 21,
   "metadata": {
    "collapsed": true
   },
   "outputs": [],
   "source": [
    "input_1 = Input(shape=(MAX_SENT_LEN, ), name='q1_input')\n",
    "\n",
    "# Common embedding lookup layer\n",
    "emb_look_up = Embedding(input_dim=MAX_VOCAB_SIZE,\n",
    "                        output_dim=EMBEDDING_DIM,\n",
    "                        weights = [embeddings_matrix], \n",
    "                        trainable=False, \n",
    "                        mask_zero=False,\n",
    "                        name='q_embedding_lookup')\n",
    "\n",
    "emb_1 = emb_look_up(input_1)\n",
    "\n",
    "# Need to be reshaped because the CONV layer assumes 1 dimnesion as num of channels\n",
    "emb_1 = Reshape(target_shape=(1, MAX_SENT_LEN, EMBEDDING_DIM), \n",
    "                name='q1_embedding_reshape')(emb_1) \n",
    "\n",
    "# Convolutional Layers\n",
    "conv_1_bi =  Conv2D(filters=num_filters, \n",
    "                    kernel_size=(bi_filter_size, EMBEDDING_DIM), \n",
    "                    padding='valid', \n",
    "                    activation='relu', \n",
    "                    data_format='channels_first', \n",
    "                    name='q1_bigram_conv')(emb_1)\n",
    "\n",
    "conv_1_tri =  Conv2D(filters=num_filters, \n",
    "                     kernel_size=(tri_filter_size, EMBEDDING_DIM), \n",
    "                     padding='valid', \n",
    "                     activation='relu', \n",
    "                     data_format='channels_first', \n",
    "                     name='q1_trigram_conv')(emb_1)\n",
    "\n",
    "# Remove channel dimension before max-pooling operation\n",
    "bi_out_timesteps = MAX_SENT_LEN - bi_filter_size + 1\n",
    "tri_out_timesteps = MAX_SENT_LEN - tri_filter_size + 1\n",
    "\n",
    "conv_1_bi = Reshape(target_shape=(bi_out_timesteps, num_filters), \n",
    "                    name='q1_bigram_conv_reshape')(conv_1_bi) # (MAX_SENT_LEN - bi_filter_size + 1, num_filters)\n",
    "conv_1_tri = Reshape(target_shape=(tri_out_timesteps, num_filters), \n",
    "                     name='q1_trigram_conv_reshape')(conv_1_tri)\n",
    "\n",
    "# Max-pooling Layer\n",
    "# Pool across timesteps to get 1 feature per filter, i.e., each filter captures 1 feature about the sentence/question\n",
    "max_pool_1_bi = MaxPooling1D(pool_size = bi_out_timesteps, \n",
    "                             name='q1_bigram_maxpool')(conv_1_bi)\n",
    "max_pool_1_tri = MaxPooling1D(pool_size = tri_out_timesteps, \n",
    "                              name='q1_trigram_maxpool')(conv_1_tri)\n",
    "\n",
    "# Merge the features learnt by bi and tri filters\n",
    "merged_1 = Concatenate(name='q1_maxpool_concat')([max_pool_1_bi, max_pool_1_tri])\n",
    "# Inputs dropped out randomly so that there is no heavy dependence on specific features for prediction\n",
    "dropout_1 = Dropout(rate=0.2, \n",
    "                    name='q1_dropout')(merged_1)\n",
    "flatten_1 = Flatten(name='q1_flatten')(dropout_1)"
   ]
  },
  {
   "cell_type": "markdown",
   "metadata": {},
   "source": [
    "#### Question 2 Computational Graph"
   ]
  },
  {
   "cell_type": "code",
   "execution_count": 22,
   "metadata": {
    "collapsed": true
   },
   "outputs": [],
   "source": [
    "input_2 = Input(shape=(MAX_SENT_LEN, ), name='q2_input')\n",
    "\n",
    "emb_2 = emb_look_up(input_2)\n",
    "\n",
    "# Need to be reshaped because the CONV layer assumes 1 dimnesion as num of channels\n",
    "emb_2 = Reshape((1, MAX_SENT_LEN, EMBEDDING_DIM), \n",
    "                name='q2_embedding_reshape')(emb_2)\n",
    "\n",
    "# Convolutional Layers\n",
    "conv_2_bi =  Conv2D(filters=num_filters, \n",
    "                    kernel_size=(bi_filter_size, EMBEDDING_DIM), \n",
    "                    padding='valid', \n",
    "                    activation='relu', \n",
    "                    data_format='channels_first', \n",
    "                    name='q2_bigram_conv')(emb_2)\n",
    "\n",
    "conv_2_tri =  Conv2D(filters=num_filters, \n",
    "                     kernel_size=(tri_filter_size, EMBEDDING_DIM), \n",
    "                     padding='valid', \n",
    "                     activation='relu', \n",
    "                     data_format='channels_first', \n",
    "                     name='q2_trigram_conv')(emb_2)\n",
    "\n",
    "# Remove channel dimension before max-pooling operation\n",
    "conv_2_bi = Reshape((bi_out_timesteps, num_filters), \n",
    "                    name='q2_bigram_conv_reshape')(conv_2_bi) # (MAX_SENT_LEN - bi_filter_size + 1, num_filters)\n",
    "conv_2_tri = Reshape((tri_out_timesteps, num_filters), \n",
    "                     name='q2_trigram_conv_reshape')(conv_2_tri)\n",
    "\n",
    "# Max-pooling Layer\n",
    "# Pool across timesteps to get 1 feature per filter, i.e., each filter captures 1 feature about the sentence/question\n",
    "max_pool_2_bi = MaxPooling1D(pool_size = bi_out_timesteps, \n",
    "                             name='q2_bigram_maxpool')(conv_2_bi)\n",
    "max_pool_2_tri = MaxPooling1D(pool_size = tri_out_timesteps, \n",
    "                              name='q2_trigram_maxpool')(conv_2_tri)\n",
    "\n",
    "# Merge the features learnt by bi and tri filters\n",
    "merged_2 = Concatenate(name='q2_maxpool_flatten')([max_pool_2_bi, max_pool_2_tri])\n",
    "# Inputs dropped out randomly so that there is no heavy dependence on specific features for prediction\n",
    "dropout_2 = Dropout(rate=0.2, \n",
    "                    name='q2_dropout')(merged_2)\n",
    "flatten_2 = Flatten(name='q2_flatten')(dropout_2)"
   ]
  },
  {
   "cell_type": "markdown",
   "metadata": {},
   "source": [
    "#### Merge outputs of Q1 and Q2"
   ]
  },
  {
   "cell_type": "code",
   "execution_count": 23,
   "metadata": {},
   "outputs": [
    {
     "name": "stdout",
     "output_type": "stream",
     "text": [
      "____________________________________________________________________________________________________\n",
      "Layer (type)                     Output Shape          Param #     Connected to                     \n",
      "====================================================================================================\n",
      "q1_input (InputLayer)            (None, 15)            0                                            \n",
      "____________________________________________________________________________________________________\n",
      "q2_input (InputLayer)            (None, 15)            0                                            \n",
      "____________________________________________________________________________________________________\n",
      "q_embedding_lookup (Embedding)   (None, 15, 50)        1500000     q1_input[0][0]                   \n",
      "                                                                   q2_input[0][0]                   \n",
      "____________________________________________________________________________________________________\n",
      "q1_embedding_reshape (Reshape)   (None, 1, 15, 50)     0           q_embedding_lookup[0][0]         \n",
      "____________________________________________________________________________________________________\n",
      "q2_embedding_reshape (Reshape)   (None, 1, 15, 50)     0           q_embedding_lookup[1][0]         \n",
      "____________________________________________________________________________________________________\n",
      "q1_bigram_conv (Conv2D)          (None, 20, 14, 1)     2020        q1_embedding_reshape[0][0]       \n",
      "____________________________________________________________________________________________________\n",
      "q1_trigram_conv (Conv2D)         (None, 20, 13, 1)     3020        q1_embedding_reshape[0][0]       \n",
      "____________________________________________________________________________________________________\n",
      "q2_bigram_conv (Conv2D)          (None, 20, 14, 1)     2020        q2_embedding_reshape[0][0]       \n",
      "____________________________________________________________________________________________________\n",
      "q2_trigram_conv (Conv2D)         (None, 20, 13, 1)     3020        q2_embedding_reshape[0][0]       \n",
      "____________________________________________________________________________________________________\n",
      "q1_bigram_conv_reshape (Reshape) (None, 14, 20)        0           q1_bigram_conv[0][0]             \n",
      "____________________________________________________________________________________________________\n",
      "q1_trigram_conv_reshape (Reshape (None, 13, 20)        0           q1_trigram_conv[0][0]            \n",
      "____________________________________________________________________________________________________\n",
      "q2_bigram_conv_reshape (Reshape) (None, 14, 20)        0           q2_bigram_conv[0][0]             \n",
      "____________________________________________________________________________________________________\n",
      "q2_trigram_conv_reshape (Reshape (None, 13, 20)        0           q2_trigram_conv[0][0]            \n",
      "____________________________________________________________________________________________________\n",
      "q1_bigram_maxpool (MaxPooling1D) (None, 1, 20)         0           q1_bigram_conv_reshape[0][0]     \n",
      "____________________________________________________________________________________________________\n",
      "q1_trigram_maxpool (MaxPooling1D (None, 1, 20)         0           q1_trigram_conv_reshape[0][0]    \n",
      "____________________________________________________________________________________________________\n",
      "q2_bigram_maxpool (MaxPooling1D) (None, 1, 20)         0           q2_bigram_conv_reshape[0][0]     \n",
      "____________________________________________________________________________________________________\n",
      "q2_trigram_maxpool (MaxPooling1D (None, 1, 20)         0           q2_trigram_conv_reshape[0][0]    \n",
      "____________________________________________________________________________________________________\n",
      "q1_maxpool_concat (Concatenate)  (None, 1, 40)         0           q1_bigram_maxpool[0][0]          \n",
      "                                                                   q1_trigram_maxpool[0][0]         \n",
      "____________________________________________________________________________________________________\n",
      "q2_maxpool_flatten (Concatenate) (None, 1, 40)         0           q2_bigram_maxpool[0][0]          \n",
      "                                                                   q2_trigram_maxpool[0][0]         \n",
      "____________________________________________________________________________________________________\n",
      "q1_dropout (Dropout)             (None, 1, 40)         0           q1_maxpool_concat[0][0]          \n",
      "____________________________________________________________________________________________________\n",
      "q2_dropout (Dropout)             (None, 1, 40)         0           q2_maxpool_flatten[0][0]         \n",
      "____________________________________________________________________________________________________\n",
      "q1_flatten (Flatten)             (None, 40)            0           q1_dropout[0][0]                 \n",
      "____________________________________________________________________________________________________\n",
      "q2_flatten (Flatten)             (None, 40)            0           q2_dropout[0][0]                 \n",
      "____________________________________________________________________________________________________\n",
      "q1_q2_concat (Concatenate)       (None, 80)            0           q1_flatten[0][0]                 \n",
      "                                                                   q2_flatten[0][0]                 \n",
      "____________________________________________________________________________________________________\n",
      "q1_q2_dense (Dense)              (None, 10)            810         q1_q2_concat[0][0]               \n",
      "____________________________________________________________________________________________________\n",
      "batchnorm (BatchNormalization)   (None, 10)            40          q1_q2_dense[0][0]                \n",
      "____________________________________________________________________________________________________\n",
      "relu_activation (Activation)     (None, 10)            0           batchnorm[0][0]                  \n",
      "____________________________________________________________________________________________________\n",
      "dense_dropout (Dropout)          (None, 10)            0           relu_activation[0][0]            \n",
      "____________________________________________________________________________________________________\n",
      "output_layer (Dense)             (None, 1)             11          dense_dropout[0][0]              \n",
      "====================================================================================================\n",
      "Total params: 1,510,941\n",
      "Trainable params: 10,921\n",
      "Non-trainable params: 1,500,020\n",
      "____________________________________________________________________________________________________\n"
     ]
    }
   ],
   "source": [
    "# With batch-normalization, the output of a previous layer is mu-sigma normalized, \n",
    "# before it is fed into the next layer. \n",
    "# For feed-forward networks, batch-normalization is carried out \n",
    "# after/before applying RELU activation (?)\n",
    "# https://www.reddit.com/r/MachineLearning/comments/67gonq/d_batch_normalization_before_or_after_relu/\n",
    "\n",
    "merged = Concatenate(name='q1_q2_concat')([flatten_1, flatten_2])\n",
    "\n",
    "# Dense layers\n",
    "dense_1 = Dense(units=10, \n",
    "                name='q1_q2_dense')(merged)\n",
    "bn_1 = BatchNormalization(name='batchnorm')(dense_1)\n",
    "relu_1 = Activation(activation='relu', \n",
    "                    name='relu_activation')(bn_1)\n",
    "dense_1_dropout = Dropout(0.2, \n",
    "                          name='dense_dropout')(relu_1)\n",
    "\n",
    "output_prob = Dense(units=1, \n",
    "                    activation='sigmoid', \n",
    "                    name='output_layer')(dense_1_dropout)\n",
    "\n",
    "model = Model(inputs=[input_1, input_2], outputs=output_prob, name='text_pair_cnn')\n",
    "model.summary()"
   ]
  },
  {
   "cell_type": "code",
   "execution_count": null,
   "metadata": {
    "collapsed": true
   },
   "outputs": [],
   "source": []
  },
  {
   "cell_type": "code",
   "execution_count": 24,
   "metadata": {},
   "outputs": [
    {
     "name": "stdout",
     "output_type": "stream",
     "text": [
      "Train on 89980 samples, validate on 9998 samples\n",
      "Epoch 1/10\n",
      "89980/89980 [==============================] - 29s - loss: 0.6386 - acc: 0.6452 - val_loss: 0.5895 - val_acc: 0.6957\n",
      "Epoch 2/10\n",
      "89980/89980 [==============================] - 28s - loss: 0.5878 - acc: 0.6930 - val_loss: 0.5701 - val_acc: 0.7083\n",
      "Epoch 3/10\n",
      "89980/89980 [==============================] - 28s - loss: 0.5722 - acc: 0.7063 - val_loss: 0.5586 - val_acc: 0.7103\n",
      "Epoch 4/10\n",
      "89980/89980 [==============================] - 28s - loss: 0.5617 - acc: 0.7160 - val_loss: 0.5531 - val_acc: 0.7214\n",
      "Epoch 5/10\n",
      "89980/89980 [==============================] - 28s - loss: 0.5537 - acc: 0.7208 - val_loss: 0.5487 - val_acc: 0.7207\n",
      "Epoch 6/10\n",
      "89980/89980 [==============================] - 28s - loss: 0.5464 - acc: 0.7247 - val_loss: 0.5458 - val_acc: 0.7257\n",
      "Epoch 7/10\n",
      "89980/89980 [==============================] - 28s - loss: 0.5409 - acc: 0.7300 - val_loss: 0.5422 - val_acc: 0.7256\n",
      "Epoch 8/10\n",
      "89980/89980 [==============================] - 28s - loss: 0.5365 - acc: 0.7323 - val_loss: 0.5444 - val_acc: 0.7220\n",
      "Epoch 9/10\n",
      "89980/89980 [==============================] - 28s - loss: 0.5322 - acc: 0.7363 - val_loss: 0.5384 - val_acc: 0.7280\n",
      "Epoch 10/10\n",
      "89980/89980 [==============================] - 28s - loss: 0.5310 - acc: 0.7355 - val_loss: 0.5390 - val_acc: 0.7295\n"
     ]
    },
    {
     "data": {
      "text/plain": [
       "<keras.callbacks.History at 0x7fdb92029748>"
      ]
     },
     "execution_count": 24,
     "metadata": {},
     "output_type": "execute_result"
    }
   ],
   "source": [
    "model.compile(loss='binary_crossentropy',\n",
    "              optimizer='adam',\n",
    "              metrics=['accuracy'])\n",
    "\n",
    "model.fit(x = [X_train_q1, X_train_q2], \n",
    "          y = y_train, \n",
    "          batch_size=BATCH_SIZE, \n",
    "          epochs=N_EPOCHS, \n",
    "          validation_data=([X_test_q1, X_test_q2], y_test))"
   ]
  },
  {
   "cell_type": "code",
   "execution_count": null,
   "metadata": {
    "collapsed": true
   },
   "outputs": [],
   "source": []
  },
  {
   "cell_type": "code",
   "execution_count": 25,
   "metadata": {},
   "outputs": [
    {
     "data": {
      "image/png": "[encoded data removed]",
      "text/plain": [
       "<IPython.core.display.Image object>"
      ]
     },
     "execution_count": 25,
     "metadata": {},
     "output_type": "execute_result"
    }
   ],
   "source": [
    "plot_model(model, to_file='text_pair_cnn_classifier.png', show_layer_names=True)\n",
    "Image('text_pair_cnn_classifier.png')"
   ]
  },
  {
   "cell_type": "code",
   "execution_count": null,
   "metadata": {
    "collapsed": true
   },
   "outputs": [],
   "source": []
  },
  {
   "cell_type": "markdown",
   "metadata": {},
   "source": [
    "#### Notes\n",
    "- This model does not consider interation between sentences\n",
    "- We could include some attention mechanisms\n",
    "- CNN Siamese Architectures\n",
    "- Design and input hand-crafted features along with CNN learnt features at the dense layer"
   ]
  },
  {
   "cell_type": "code",
   "execution_count": null,
   "metadata": {
    "collapsed": true
   },
   "outputs": [],
   "source": []
  },
  {
   "cell_type": "code",
   "execution_count": null,
   "metadata": {
    "collapsed": true
   },
   "outputs": [],
   "source": []
  },
  {
   "cell_type": "code",
   "execution_count": null,
   "metadata": {
    "collapsed": true
   },
   "outputs": [],
   "source": [
    "# This custom layer is required if you want to set mask_zero to be True at the embedding layer\n",
    "class NonMasking(Layer):   \n",
    "    def __init__(self, **kwargs):   \n",
    "        self.supports_masking = True  \n",
    "        super(NonMasking, self).__init__(**kwargs)   \n",
    "  \n",
    "    def build(self, input_shape):   \n",
    "        input_shape = input_shape   \n",
    "  \n",
    "    def compute_mask(self, input, input_mask=None):   \n",
    "        # do not pass the mask to the next layers   \n",
    "        return None   \n",
    "  \n",
    "    def call(self, x, mask=None):   \n",
    "        return x   \n",
    "  \n",
    "    def compute_output_shape(self, input_shape):   \n",
    "        return input_shape\n",
    "    \n",
    "emb_1 = NonMasking(name='emb_masking_q1')(emb_1)\n",
    "emb_2 = NonMasking(name='emb_masking_q2')(emb_2)"
   ]
  }
 ],
 "metadata": {
  "kernelspec": {
   "display_name": "Python 3",
   "language": "python",
   "name": "python3"
  },
  "language_info": {
   "codemirror_mode": {
    "name": "ipython",
    "version": 3
   },
   "file_extension": ".py",
   "mimetype": "text/x-python",
   "name": "python",
   "nbconvert_exporter": "python",
   "pygments_lexer": "ipython3",
   "version": "3.6.1"
  }
 },
 "nbformat": 4,
 "nbformat_minor": 2
}
